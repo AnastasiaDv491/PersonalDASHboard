{
 "cells": [
  {
   "cell_type": "code",
   "execution_count": 1,
   "metadata": {},
   "outputs": [],
   "source": [
    "import pandas as pd\n"
   ]
  },
  {
   "cell_type": "code",
   "execution_count": 2,
   "metadata": {},
   "outputs": [
    {
     "data": {
      "text/html": [
       "<div>\n",
       "<style scoped>\n",
       "    .dataframe tbody tr th:only-of-type {\n",
       "        vertical-align: middle;\n",
       "    }\n",
       "\n",
       "    .dataframe tbody tr th {\n",
       "        vertical-align: top;\n",
       "    }\n",
       "\n",
       "    .dataframe thead th {\n",
       "        text-align: right;\n",
       "    }\n",
       "</style>\n",
       "<table border=\"1\" class=\"dataframe\">\n",
       "  <thead>\n",
       "    <tr style=\"text-align: right;\">\n",
       "      <th></th>\n",
       "      <th>Activity Type</th>\n",
       "      <th>Date</th>\n",
       "      <th>Favorite</th>\n",
       "      <th>Title</th>\n",
       "      <th>Place</th>\n",
       "      <th>Distance</th>\n",
       "      <th>Calories</th>\n",
       "      <th>Time</th>\n",
       "      <th>Avg HR</th>\n",
       "      <th>Max HR</th>\n",
       "      <th>...</th>\n",
       "      <th>Max Resp</th>\n",
       "      <th>Stress Change</th>\n",
       "      <th>Stress Start</th>\n",
       "      <th>Stress End</th>\n",
       "      <th>Avg Stress</th>\n",
       "      <th>Max Stress</th>\n",
       "      <th>Moving Time</th>\n",
       "      <th>Elapsed Time</th>\n",
       "      <th>Min Elevation</th>\n",
       "      <th>Max Elevation</th>\n",
       "    </tr>\n",
       "  </thead>\n",
       "  <tbody>\n",
       "    <tr>\n",
       "      <th>0</th>\n",
       "      <td>Strength Training</td>\n",
       "      <td>10/3/2024 20:03</td>\n",
       "      <td>False</td>\n",
       "      <td>Strength</td>\n",
       "      <td>Unknown</td>\n",
       "      <td>0</td>\n",
       "      <td>372</td>\n",
       "      <td>0:58:27</td>\n",
       "      <td>138</td>\n",
       "      <td>163</td>\n",
       "      <td>...</td>\n",
       "      <td>--</td>\n",
       "      <td>--</td>\n",
       "      <td>--</td>\n",
       "      <td>--</td>\n",
       "      <td>--</td>\n",
       "      <td>--</td>\n",
       "      <td>0:58:27</td>\n",
       "      <td>0:58:29</td>\n",
       "      <td>--</td>\n",
       "      <td>--</td>\n",
       "    </tr>\n",
       "    <tr>\n",
       "      <th>1</th>\n",
       "      <td>Treadmill Running</td>\n",
       "      <td>10/3/2024 19:51</td>\n",
       "      <td>False</td>\n",
       "      <td>Cardio</td>\n",
       "      <td>Unknown</td>\n",
       "      <td>1.49</td>\n",
       "      <td>108</td>\n",
       "      <td>0:11:42</td>\n",
       "      <td>160</td>\n",
       "      <td>177</td>\n",
       "      <td>...</td>\n",
       "      <td>--</td>\n",
       "      <td>--</td>\n",
       "      <td>--</td>\n",
       "      <td>--</td>\n",
       "      <td>--</td>\n",
       "      <td>--</td>\n",
       "      <td>0:10:58</td>\n",
       "      <td>0:11:42</td>\n",
       "      <td>--</td>\n",
       "      <td>--</td>\n",
       "    </tr>\n",
       "    <tr>\n",
       "      <th>2</th>\n",
       "      <td>Strength Training</td>\n",
       "      <td>10/1/2024 7:26</td>\n",
       "      <td>False</td>\n",
       "      <td>Strength</td>\n",
       "      <td>Unknown</td>\n",
       "      <td>0</td>\n",
       "      <td>442</td>\n",
       "      <td>1:01:03</td>\n",
       "      <td>151</td>\n",
       "      <td>187</td>\n",
       "      <td>...</td>\n",
       "      <td>--</td>\n",
       "      <td>--</td>\n",
       "      <td>--</td>\n",
       "      <td>--</td>\n",
       "      <td>--</td>\n",
       "      <td>--</td>\n",
       "      <td>1:01:03</td>\n",
       "      <td>1:01:05</td>\n",
       "      <td>--</td>\n",
       "      <td>--</td>\n",
       "    </tr>\n",
       "    <tr>\n",
       "      <th>3</th>\n",
       "      <td>Strength Training</td>\n",
       "      <td>9/30/2024 9:12</td>\n",
       "      <td>False</td>\n",
       "      <td>Strength</td>\n",
       "      <td>Unknown</td>\n",
       "      <td>0</td>\n",
       "      <td>337</td>\n",
       "      <td>0:44:03</td>\n",
       "      <td>150</td>\n",
       "      <td>170</td>\n",
       "      <td>...</td>\n",
       "      <td>--</td>\n",
       "      <td>--</td>\n",
       "      <td>--</td>\n",
       "      <td>--</td>\n",
       "      <td>--</td>\n",
       "      <td>--</td>\n",
       "      <td>0:44:03</td>\n",
       "      <td>0:44:03</td>\n",
       "      <td>--</td>\n",
       "      <td>--</td>\n",
       "    </tr>\n",
       "    <tr>\n",
       "      <th>4</th>\n",
       "      <td>Treadmill Running</td>\n",
       "      <td>9/30/2024 8:59</td>\n",
       "      <td>False</td>\n",
       "      <td>Cardio</td>\n",
       "      <td>Unknown</td>\n",
       "      <td>1.71</td>\n",
       "      <td>68</td>\n",
       "      <td>09:34.4</td>\n",
       "      <td>133</td>\n",
       "      <td>167</td>\n",
       "      <td>...</td>\n",
       "      <td>--</td>\n",
       "      <td>--</td>\n",
       "      <td>--</td>\n",
       "      <td>--</td>\n",
       "      <td>--</td>\n",
       "      <td>--</td>\n",
       "      <td>0:09:34</td>\n",
       "      <td>09:34.4</td>\n",
       "      <td>--</td>\n",
       "      <td>--</td>\n",
       "    </tr>\n",
       "  </tbody>\n",
       "</table>\n",
       "<p>5 rows × 45 columns</p>\n",
       "</div>"
      ],
      "text/plain": [
       "       Activity Type             Date  Favorite     Title    Place Distance  \\\n",
       "0  Strength Training  10/3/2024 20:03     False  Strength  Unknown        0   \n",
       "1  Treadmill Running  10/3/2024 19:51     False    Cardio  Unknown     1.49   \n",
       "2  Strength Training   10/1/2024 7:26     False  Strength  Unknown        0   \n",
       "3  Strength Training   9/30/2024 9:12     False  Strength  Unknown        0   \n",
       "4  Treadmill Running   9/30/2024 8:59     False    Cardio  Unknown     1.71   \n",
       "\n",
       "  Calories     Time Avg HR Max HR  ... Max Resp Stress Change Stress Start  \\\n",
       "0      372  0:58:27    138    163  ...       --            --           --   \n",
       "1      108  0:11:42    160    177  ...       --            --           --   \n",
       "2      442  1:01:03    151    187  ...       --            --           --   \n",
       "3      337  0:44:03    150    170  ...       --            --           --   \n",
       "4       68  09:34.4    133    167  ...       --            --           --   \n",
       "\n",
       "  Stress End Avg Stress Max Stress Moving Time  Elapsed Time  Min Elevation  \\\n",
       "0         --         --         --     0:58:27       0:58:29             --   \n",
       "1         --         --         --     0:10:58       0:11:42             --   \n",
       "2         --         --         --     1:01:03       1:01:05             --   \n",
       "3         --         --         --     0:44:03       0:44:03             --   \n",
       "4         --         --         --     0:09:34       09:34.4             --   \n",
       "\n",
       "   Max Elevation  \n",
       "0             --  \n",
       "1             --  \n",
       "2             --  \n",
       "3             --  \n",
       "4             --  \n",
       "\n",
       "[5 rows x 45 columns]"
      ]
     },
     "execution_count": 2,
     "metadata": {},
     "output_type": "execute_result"
    }
   ],
   "source": [
    "df = pd.read_csv(\"data/sports_data.csv\")\n",
    "df.head()"
   ]
  },
  {
   "cell_type": "code",
   "execution_count": 13,
   "metadata": {},
   "outputs": [
    {
     "data": {
      "text/html": [
       "<div>\n",
       "<style scoped>\n",
       "    .dataframe tbody tr th:only-of-type {\n",
       "        vertical-align: middle;\n",
       "    }\n",
       "\n",
       "    .dataframe tbody tr th {\n",
       "        vertical-align: top;\n",
       "    }\n",
       "\n",
       "    .dataframe thead th {\n",
       "        text-align: right;\n",
       "    }\n",
       "</style>\n",
       "<table border=\"1\" class=\"dataframe\">\n",
       "  <thead>\n",
       "    <tr style=\"text-align: right;\">\n",
       "      <th></th>\n",
       "      <th>Place</th>\n",
       "      <th>count</th>\n",
       "    </tr>\n",
       "  </thead>\n",
       "  <tbody>\n",
       "    <tr>\n",
       "      <th>0</th>\n",
       "      <td>Brussels</td>\n",
       "      <td>1</td>\n",
       "    </tr>\n",
       "    <tr>\n",
       "      <th>1</th>\n",
       "      <td>Leuven</td>\n",
       "      <td>17</td>\n",
       "    </tr>\n",
       "    <tr>\n",
       "      <th>2</th>\n",
       "      <td>Mechelen</td>\n",
       "      <td>3</td>\n",
       "    </tr>\n",
       "    <tr>\n",
       "      <th>3</th>\n",
       "      <td>Middelkerke</td>\n",
       "      <td>9</td>\n",
       "    </tr>\n",
       "    <tr>\n",
       "      <th>4</th>\n",
       "      <td>Moscow</td>\n",
       "      <td>10</td>\n",
       "    </tr>\n",
       "    <tr>\n",
       "      <th>5</th>\n",
       "      <td>Schaarbeek</td>\n",
       "      <td>1</td>\n",
       "    </tr>\n",
       "    <tr>\n",
       "      <th>6</th>\n",
       "      <td>Unknown</td>\n",
       "      <td>34</td>\n",
       "    </tr>\n",
       "    <tr>\n",
       "      <th>7</th>\n",
       "      <td>Zemst</td>\n",
       "      <td>124</td>\n",
       "    </tr>\n",
       "  </tbody>\n",
       "</table>\n",
       "</div>"
      ],
      "text/plain": [
       "         Place  count\n",
       "0     Brussels      1\n",
       "1       Leuven     17\n",
       "2     Mechelen      3\n",
       "3  Middelkerke      9\n",
       "4       Moscow     10\n",
       "5   Schaarbeek      1\n",
       "6      Unknown     34\n",
       "7        Zemst    124"
      ]
     },
     "execution_count": 13,
     "metadata": {},
     "output_type": "execute_result"
    }
   ],
   "source": [
    "df2 = df[df[\"Activity Type\"] == \"Running\"].groupby(['Place']).size()\n",
    "pd.DataFrame({'Count' : df[df[\"Activity Type\"] == \"Running\"].groupby(['Place']).size()}).reset_index()\n"
   ]
  },
  {
   "cell_type": "code",
   "execution_count": 59,
   "metadata": {},
   "outputs": [
    {
     "data": {
      "text/plain": [
       "np.int32(2024)"
      ]
     },
     "execution_count": 59,
     "metadata": {},
     "output_type": "execute_result"
    }
   ],
   "source": [
    "pd.to_datetime(df[\"Date\"]).dt.year.unique()[0]"
   ]
  },
  {
   "cell_type": "code",
   "execution_count": 41,
   "metadata": {},
   "outputs": [
    {
     "data": {
      "text/html": [
       "<div>\n",
       "<style scoped>\n",
       "    .dataframe tbody tr th:only-of-type {\n",
       "        vertical-align: middle;\n",
       "    }\n",
       "\n",
       "    .dataframe tbody tr th {\n",
       "        vertical-align: top;\n",
       "    }\n",
       "\n",
       "    .dataframe thead th {\n",
       "        text-align: right;\n",
       "    }\n",
       "</style>\n",
       "<table border=\"1\" class=\"dataframe\">\n",
       "  <thead>\n",
       "    <tr style=\"text-align: right;\">\n",
       "      <th></th>\n",
       "      <th>Activity Type</th>\n",
       "      <th>Count</th>\n",
       "    </tr>\n",
       "  </thead>\n",
       "  <tbody>\n",
       "    <tr>\n",
       "      <th>0</th>\n",
       "      <td>Strength Training</td>\n",
       "      <td>194</td>\n",
       "    </tr>\n",
       "    <tr>\n",
       "      <th>1</th>\n",
       "      <td>Treadmill Running</td>\n",
       "      <td>62</td>\n",
       "    </tr>\n",
       "    <tr>\n",
       "      <th>2</th>\n",
       "      <td>Cardio</td>\n",
       "      <td>58</td>\n",
       "    </tr>\n",
       "    <tr>\n",
       "      <th>3</th>\n",
       "      <td>Running</td>\n",
       "      <td>32</td>\n",
       "    </tr>\n",
       "    <tr>\n",
       "      <th>4</th>\n",
       "      <td>Walking</td>\n",
       "      <td>11</td>\n",
       "    </tr>\n",
       "    <tr>\n",
       "      <th>5</th>\n",
       "      <td>Cycling</td>\n",
       "      <td>4</td>\n",
       "    </tr>\n",
       "    <tr>\n",
       "      <th>6</th>\n",
       "      <td>Pool Swim</td>\n",
       "      <td>3</td>\n",
       "    </tr>\n",
       "    <tr>\n",
       "      <th>7</th>\n",
       "      <td>Indoor Cycling</td>\n",
       "      <td>1</td>\n",
       "    </tr>\n",
       "  </tbody>\n",
       "</table>\n",
       "</div>"
      ],
      "text/plain": [
       "       Activity Type  Count\n",
       "0  Strength Training    194\n",
       "1  Treadmill Running     62\n",
       "2             Cardio     58\n",
       "3            Running     32\n",
       "4            Walking     11\n",
       "5            Cycling      4\n",
       "6          Pool Swim      3\n",
       "7     Indoor Cycling      1"
      ]
     },
     "execution_count": 41,
     "metadata": {},
     "output_type": "execute_result"
    }
   ],
   "source": [
    "df[\"Date\"] =pd.to_datetime(df[\"Date\"])\n",
    "df[\"Year\"] = df[\"Date\"].dt.year\n",
    "\n",
    "df2 = df[df[\"Year\"] == 2020].groupby(['Activity Type']).size()\n",
    "pd.DataFrame({'Count' : df[df[\"Year\"] == 2023].groupby(['Activity Type']).size().sort_values(ascending=False)}).reset_index()\n"
   ]
  },
  {
   "cell_type": "code",
   "execution_count": 47,
   "metadata": {},
   "outputs": [],
   "source": [
    "def get_season(row):\n",
    "    month = row['Date'].month\n",
    "    year = row['Date'].year\n",
    "    if month in [12, 1, 2]:\n",
    "        season = 'Winter'\n",
    "\n",
    "    elif month in [3, 4, 5]:\n",
    "        season = 'Spring'\n",
    "        season_year = year\n",
    "    elif month in [6, 7, 8]:\n",
    "        season = 'Summer'\n",
    "        season_year = year\n",
    "    elif month in [9, 10, 11]:\n",
    "        season = 'Autumn'\n",
    "        season_year = year\n",
    "\n",
    "    return f\"{season}\"\n",
    "\n",
    "df['Label'] = df.apply(get_season, axis=1)"
   ]
  },
  {
   "cell_type": "code",
   "execution_count": 54,
   "metadata": {},
   "outputs": [],
   "source": [
    "\n",
    "filter_df = df[df[\"Label\"] == \"Winter\"]\n",
    "\n",
    "rslt_df = pd.DataFrame(\n",
    "{\"Count\": filter_df.groupby([\"Activity Type\"]).size()}\n",
    ").reset_index()"
   ]
  },
  {
   "cell_type": "code",
   "execution_count": 61,
   "metadata": {},
   "outputs": [
    {
     "data": {
      "text/plain": [
       "array(['Unknown', 'Brussels', 'Zemst', 'Leuven', 'Moscow', 'Middelkerke',\n",
       "       'Mechelen', 'Treadmill', 'Wemmel', 'Pool', 'Vipiteno',\n",
       "       'Schmallenberg', 'Indoor', 'Griante', 'Schaarbeek'], dtype=object)"
      ]
     },
     "execution_count": 61,
     "metadata": {},
     "output_type": "execute_result"
    }
   ],
   "source": [
    "df[\"Place\"].unique()"
   ]
  },
  {
   "cell_type": "code",
   "execution_count": 3,
   "metadata": {},
   "outputs": [],
   "source": [
    "import numpy as np\n",
    "def lat_lon(row):\n",
    "   if row['Place'] == \"Brussels\":\n",
    "      return [50.850346,4.351721]\n",
    "   if row['Place'] == \"Zemst\":\n",
    "      return [50.984070, 4.464710]\n",
    "   if row['Place'] == \"Leuven\":\n",
    "      return [50.879845, 4.700518]\n",
    "   if row['Place'] == \"Moscow\":\n",
    "      return [55.755825,37.617298]\n",
    "   if row['Place'] == \"Middelkerke\":\n",
    "      return [51.185139, 2.820850]\n",
    "   if row['Place'] == \"Mechelen\":\n",
    "      return [51.0281381,4.4803453]\n",
    "   if row['Place'] == \"Wemmel\":\n",
    "      return [50.9092205,4.3029931]\n",
    "   if row['Place'] == \"Vipiteno\":\n",
    "      return [46.8963235,11.4319398]\n",
    "   if row['Place'] == \"Schmallenberg\":\n",
    "      return [51.1525937,8.2836014]\n",
    "   if row['Place'] == \"Griante\":\n",
    "      return [45.995284,9.235538]\n",
    "   if row['Place'] == \"Schaarbeek\":\n",
    "      return [50.8676041,4.3737121]\n",
    "   return 'Unknown'\n",
    "\n",
    "df[\"Coord\"] = df.apply(lat_lon, axis=1)\n",
    "coords = pd.DataFrame({\"Count\": df.groupby([\"Place\"]).size()}).reset_index()\n",
    "df2 = df[[\"Place\", \"Coord\"]]\n",
    "df2 = df2[~df2.astype(str).duplicated()]\n",
    "df3 = pd.merge(coords, df2, on = [\"Place\"])\n",
    "final_df = df3[df3[\"Coord\"] != \"Unknown\"]"
   ]
  },
  {
   "cell_type": "code",
   "execution_count": 17,
   "metadata": {},
   "outputs": [],
   "source": [
    "def lat_lon(row):\n",
    "    if row[\"Place\"] == \"Brussels\":\n",
    "        new_cols = pd.Series([[50.850346, 4.351721], \"Belgium\"])\n",
    "    elif row['Place'] == \"Zemst\":\n",
    "        new_cols = pd.Series([[50.984070, 4.464710], \"Belgium\"])\n",
    "    elif row['Place'] == \"Leuven\":\n",
    "        new_cols = pd.Series([[50.879845, 4.700518], \"Belgium\"])\n",
    "    elif row['Place'] == \"Moscow\":\n",
    "        new_cols = pd.Series([[55.755825,37.617298], \"Russia\"])\n",
    "    elif row['Place'] == \"Middelkerke\":\n",
    "        new_cols = pd.Series([[51.185139, 2.820850], \"Belgium\"])\n",
    "    elif row['Place'] == \"Mechelen\":\n",
    "        new_cols = pd.Series([[51.0281381,4.4803453], \"Belgium\"])\n",
    "    elif row['Place'] == \"Wemmel\":\n",
    "        new_cols = pd.Series([[50.9092205,4.3029931], \"Belgium\"])\n",
    "    elif row['Place'] == \"Vipiteno\":\n",
    "        new_cols = pd.Series([[46.8963235,11.4319398], \"Italy\"])\n",
    "    elif row['Place'] == \"Schmallenberg\":\n",
    "        new_cols = pd.Series([[51.1525937,8.2836014], \"Germany\"])\n",
    "    elif row['Place'] == \"Griante\":\n",
    "        new_cols = pd.Series([[45.995284,9.235538], \"Italy\"])\n",
    "    elif row['Place'] == \"Schaarbeek\":\n",
    "        new_cols = pd.Series([[50.8676041,4.3737121], \"Belgium\"])\n",
    "    else:\n",
    "        new_cols = pd.Series([\"Unknown\", \"Unknown\"])\n",
    "    return new_cols\n",
    "\n",
    "\n",
    "df[[\"Coord\", \"Country\"]] = df.apply(lat_lon, axis=1)\n",
    "coords = pd.DataFrame({\"Count\": df.groupby([\"Place\"]).size()}).reset_index()\n",
    "df2 = df[[\"Place\", \"Coord\", \"Country\"]]\n",
    "df2 = df2[~df2.astype(str).duplicated()]\n",
    "df3 = pd.merge(coords, df2, on = [\"Place\"])\n",
    "final_df = df3[df3[\"Coord\"] != \"Unknown\"]"
   ]
  },
  {
   "cell_type": "code",
   "execution_count": 40,
   "metadata": {},
   "outputs": [
    {
     "name": "stdout",
     "output_type": "stream",
     "text": [
      "Zemst\n",
      "Leuven\n",
      "Moscow\n"
     ]
    }
   ],
   "source": [
    "for i in final_df.sort_values(by=[\"Count\"], ascending=False)[\"Place\"][0:3]:\n",
    "    print(i)\n"
   ]
  },
  {
   "cell_type": "code",
   "execution_count": 23,
   "metadata": {},
   "outputs": [
    {
     "data": {
      "text/html": [
       "<div>\n",
       "<style scoped>\n",
       "    .dataframe tbody tr th:only-of-type {\n",
       "        vertical-align: middle;\n",
       "    }\n",
       "\n",
       "    .dataframe tbody tr th {\n",
       "        vertical-align: top;\n",
       "    }\n",
       "\n",
       "    .dataframe thead th {\n",
       "        text-align: right;\n",
       "    }\n",
       "</style>\n",
       "<table border=\"1\" class=\"dataframe\">\n",
       "  <thead>\n",
       "    <tr style=\"text-align: right;\">\n",
       "      <th></th>\n",
       "      <th>Place</th>\n",
       "      <th>Count</th>\n",
       "      <th>Coord</th>\n",
       "      <th>Country</th>\n",
       "    </tr>\n",
       "  </thead>\n",
       "  <tbody>\n",
       "    <tr>\n",
       "      <th>14</th>\n",
       "      <td>Zemst</td>\n",
       "      <td>127</td>\n",
       "      <td>[50.98407, 4.46471]</td>\n",
       "      <td>Belgium</td>\n",
       "    </tr>\n",
       "    <tr>\n",
       "      <th>3</th>\n",
       "      <td>Leuven</td>\n",
       "      <td>17</td>\n",
       "      <td>[50.879845, 4.700518]</td>\n",
       "      <td>Belgium</td>\n",
       "    </tr>\n",
       "    <tr>\n",
       "      <th>6</th>\n",
       "      <td>Moscow</td>\n",
       "      <td>11</td>\n",
       "      <td>[55.755825, 37.617298]</td>\n",
       "      <td>Russia</td>\n",
       "    </tr>\n",
       "    <tr>\n",
       "      <th>5</th>\n",
       "      <td>Middelkerke</td>\n",
       "      <td>10</td>\n",
       "      <td>[51.185139, 2.82085]</td>\n",
       "      <td>Belgium</td>\n",
       "    </tr>\n",
       "  </tbody>\n",
       "</table>\n",
       "</div>"
      ],
      "text/plain": [
       "          Place  Count                   Coord  Country\n",
       "14        Zemst    127     [50.98407, 4.46471]  Belgium\n",
       "3        Leuven     17   [50.879845, 4.700518]  Belgium\n",
       "6        Moscow     11  [55.755825, 37.617298]   Russia\n",
       "5   Middelkerke     10    [51.185139, 2.82085]  Belgium"
      ]
     },
     "execution_count": 23,
     "metadata": {},
     "output_type": "execute_result"
    }
   ],
   "source": [
    "final_df.sort_values(by=[\"Count\"], ascending=False)[0:4]"
   ]
  },
  {
   "cell_type": "code",
   "execution_count": null,
   "metadata": {},
   "outputs": [],
   "source": [
    "import plotly.graph_objects as go\n",
    "\n",
    "fig = go.Figure().add_trace(go.Scattergeo(\n",
    "    locationmode = 'USA-states',\n",
    "    lon = final_df['Coord'].str[1],\n",
    "    lat = final_df['Coord'].str[0],\n",
    "    marker = dict(\n",
    "        size = final_df['Count']/100,\n",
    "        line_color='rgb(40,40,40)',\n",
    "        line_width=0.5,\n",
    "        sizemode = 'area'\n",
    "    ),\n",
    "    ))\n",
    "\n",
    "fig\n",
    "\n",
    "fig.update_layout(\n",
    "        showlegend = True,\n",
    "\n",
    "    )\n",
    "\n",
    "fig.show()"
   ]
  },
  {
   "cell_type": "code",
   "execution_count": null,
   "metadata": {},
   "outputs": [],
   "source": [
    "import plotly.graph_objects as go\n",
    "\n",
    "fig = go.Figure(\n",
    "        data=[go.Pie(labels=rslt_df[\"Activity Type\"], values=rslt_df[\"Count\"])]\n",
    "    )   \n",
    "fig.show()"
   ]
  },
  {
   "cell_type": "code",
   "execution_count": 158,
   "metadata": {},
   "outputs": [
    {
     "name": "stdout",
     "output_type": "stream",
     "text": [
      "0      0:58:27\n",
      "1      0:11:42\n",
      "2      1:01:03\n",
      "3      0:44:03\n",
      "4      09:34.4\n",
      "        ...   \n",
      "822    0:18:29\n",
      "823    0:26:53\n",
      "824    0:11:18\n",
      "825    0:11:51\n",
      "826    0:31:52\n",
      "Name: Time, Length: 827, dtype: object\n"
     ]
    },
    {
     "name": "stderr",
     "output_type": "stream",
     "text": [
      "C:\\Users\\nastj\\AppData\\Local\\Temp\\ipykernel_1640\\3215390722.py:6: UserWarning: Could not infer format, so each element will be parsed individually, falling back to `dateutil`. To ensure parsing is consistent and as-expected, please specify a format.\n",
      "  time = pd.to_timedelta(pd.to_datetime(df['Time']).dt.strftime('%H:%M:%S'))\n"
     ]
    }
   ],
   "source": [
    "import datetime\n",
    "df = pd.read_csv(\"data/sports_data.csv\")\n",
    "# df[\"Time\"] =df[\"Time\"].astype(str)\n",
    "# df[\"Time\"] = pd.to_datetime(df[\"Time\"])\n",
    "print(df[\"Time\"])\n",
    "time = pd.to_timedelta(pd.to_datetime(df['Time']).dt.strftime('%H:%M:%S'))\n"
   ]
  },
  {
   "cell_type": "code",
   "execution_count": 180,
   "metadata": {},
   "outputs": [],
   "source": [
    "df = pd.read_csv(\"data/sports_data.csv\")\n",
    "\n",
    "df_quick_stats = df\n",
    "df_quick_stats[\"Avg HR\"] = pd.to_numeric(df[\"Avg HR\"].replace(\"--\", \"0\"))\n",
    "calories = df[\"Calories\"].str.replace('--', '0')\n",
    "df_quick_stats[\"Calories\"] = pd.to_numeric(calories.str.replace(',', '.'))\n"
   ]
  },
  {
   "cell_type": "code",
   "execution_count": 185,
   "metadata": {},
   "outputs": [
    {
     "name": "stdout",
     "output_type": "stream",
     "text": [
      "5:57\n",
      "50:11\n"
     ]
    },
    {
     "name": "stderr",
     "output_type": "stream",
     "text": [
      "C:\\Users\\nastj\\AppData\\Local\\Temp\\ipykernel_1640\\3144384144.py:6: UserWarning: Could not infer format, so each element will be parsed individually, falling back to `dateutil`. To ensure parsing is consistent and as-expected, please specify a format.\n",
      "  time =  TimedeltaIndex(pd.to_datetime(df_running['Time']).dt.strftime('%H:%M:%S'))\n",
      "C:\\Users\\nastj\\AppData\\Local\\Temp\\ipykernel_1640\\3144384144.py:23: UserWarning: Could not infer format, so each element will be parsed individually, falling back to `dateutil`. To ensure parsing is consistent and as-expected, please specify a format.\n",
      "  time2 =  TimedeltaIndex(pd.to_datetime(df_strength['Time']).dt.strftime('%H:%M:%S'))\n"
     ]
    }
   ],
   "source": [
    "from pandas import TimedeltaIndex\n",
    "# Running \n",
    "\n",
    "# Running stats\n",
    "df_running = df_quick_stats[df_quick_stats[\"Activity Type\"].isin([\"Running\"])]\n",
    "time =  TimedeltaIndex(pd.to_datetime(df_running['Time']).dt.strftime('%H:%M:%S'))\n",
    "\n",
    "round(time.sum() /  np.timedelta64(1, 'h')) # total hours\n",
    "\n",
    "round(df_running.loc[:, 'Avg HR'].mean()) # avg heart rate\n",
    "\n",
    "round(df_running.loc[:, 'Calories'].mean()) # avg calories\n",
    "\n",
    "speed = df_running['Avg Speed'].str.strip(\"'\") # avg speed\n",
    "speed= pd.to_timedelta('00:'+speed)\n",
    "totsec = speed.mean().total_seconds()\n",
    "m = round((totsec%3600)//60)\n",
    "sec = round((totsec%3600)%60) \n",
    "print(f\"{m}:{sec}\")\n",
    "\n",
    "# Strength training stats\n",
    "df_strength = df_quick_stats[df_quick_stats[\"Activity Type\"].isin([\"Strength Training\"])]\n",
    "time2 =  TimedeltaIndex(pd.to_datetime(df_strength['Time']).dt.strftime('%H:%M:%S'))\n",
    "round(time2.sum() /  np.timedelta64(1, 'h')) #total hours\n",
    "\n",
    "round(df_strength.loc[:, 'Avg HR'].mean()) #avg heart rate\n",
    "\n",
    "round(df_strength.loc[:, 'Calories'].mean()) #avg calories\n",
    "\n",
    "totsec = time2.mean().total_seconds() # avg time training\n",
    "m = round((totsec%3600)//60)\n",
    "sec = round((totsec%3600)%60) \n",
    "print(f\"{m}:{sec}\")\n",
    "\n"
   ]
  },
  {
   "cell_type": "code",
   "execution_count": 198,
   "metadata": {},
   "outputs": [],
   "source": [
    "def getTrainingStats():\n",
    "    df = pd.read_csv(\"data/sports_data.csv\")\n",
    "\n",
    "    df_quick_stats = df\n",
    "    df_quick_stats[\"Avg HR\"] = pd.to_numeric(df[\"Avg HR\"].replace(\"--\", \"0\"))\n",
    "    calories = df[\"Calories\"].str.replace(\"--\", \"0\")\n",
    "    df_quick_stats[\"Calories\"] = pd.to_numeric(calories.str.replace(\",\", \".\"))\n",
    "\n",
    "    # Running stats\n",
    "    df_running = df_quick_stats[df_quick_stats[\"Activity Type\"].isin([\"Running\"])]\n",
    "    time = TimedeltaIndex(pd.to_datetime(df_running[\"Time\"]).dt.strftime(\"%H:%M:%S\"))\n",
    "\n",
    "    running_time_total = round(time.sum() / np.timedelta64(1, \"h\"))  # total hours\n",
    "    running_avg_hr = round(df_running.loc[:, \"Avg HR\"].mean())  # avg heart rate\n",
    "    running_avg_calories = round(df_running.loc[:, \"Calories\"].mean())  # avg calories\n",
    "\n",
    "    speed = df_running[\"Avg Speed\"].str.strip(\"'\")  # avg speed\n",
    "    speed = pd.to_timedelta(\"00:\" + speed)\n",
    "    totsec = speed.mean().total_seconds()\n",
    "    m = round((totsec % 3600) // 60)\n",
    "    sec = round((totsec % 3600) % 60)\n",
    "    running_avg_speed = f\"{m}:{sec}\"\n",
    "\n",
    "    # Strength training stats\n",
    "    df_strength = df_quick_stats[\n",
    "        df_quick_stats[\"Activity Type\"].isin([\"Strength Training\"])\n",
    "    ]\n",
    "    time2 = TimedeltaIndex(pd.to_datetime(df_strength[\"Time\"]).dt.strftime(\"%H:%M:%S\"))\n",
    "\n",
    "    strength_total = round(time2.sum() / np.timedelta64(1, \"h\"))  # total hours\n",
    "    strength_avg_hr = round(df_strength.loc[:, \"Avg HR\"].mean())  # avg heart rate\n",
    "    strength_avg_calories = round(df_strength.loc[:, \"Calories\"].mean())  # avg calories\n",
    "\n",
    "    totsec = time2.mean().total_seconds()  # avg time training\n",
    "    m = round((totsec % 3600) // 60)\n",
    "    sec = round((totsec % 3600) % 60)\n",
    "    strength_avg_time = f\"{m}:{sec}\"\n",
    "\n",
    "    # create dict\n",
    "    running_dict = dict()\n",
    "    running_dict[\"Total Hours Running\"] = running_time_total\n",
    "    running_dict[\"Avg. Heart Rate\"] = running_avg_hr\n",
    "    running_dict[\"Avg. Calories Burnt\"] = running_avg_calories\n",
    "    running_dict[\"Avg. Speed\"] = running_avg_speed\n",
    "\n",
    "    strength_dict = dict()\n",
    "    strength_dict[\"Total Hours Trained\"] = strength_total\n",
    "    strength_dict[\"Avg. Heart Rate\"] = strength_avg_hr\n",
    "    strength_dict[\"Avg. Calories\"] = strength_avg_calories\n",
    "    strength_dict[\"Avg. Time Trained\"] = strength_avg_time\n",
    "\n",
    "    return running_dict, strength_dict\n",
    "\n"
   ]
  },
  {
   "cell_type": "code",
   "execution_count": 206,
   "metadata": {},
   "outputs": [
    {
     "name": "stderr",
     "output_type": "stream",
     "text": [
      "C:\\Users\\nastj\\AppData\\Local\\Temp\\ipykernel_1640\\1035497437.py:11: UserWarning: Could not infer format, so each element will be parsed individually, falling back to `dateutil`. To ensure parsing is consistent and as-expected, please specify a format.\n",
      "  time = TimedeltaIndex(pd.to_datetime(df_running[\"Time\"]).dt.strftime(\"%H:%M:%S\"))\n",
      "C:\\Users\\nastj\\AppData\\Local\\Temp\\ipykernel_1640\\1035497437.py:28: UserWarning: Could not infer format, so each element will be parsed individually, falling back to `dateutil`. To ensure parsing is consistent and as-expected, please specify a format.\n",
      "  time2 = TimedeltaIndex(pd.to_datetime(df_strength[\"Time\"]).dt.strftime(\"%H:%M:%S\"))\n"
     ]
    },
    {
     "data": {
      "text/plain": [
       "254"
      ]
     },
     "execution_count": 206,
     "metadata": {},
     "output_type": "execute_result"
    }
   ],
   "source": [
    "d,m= getTrainingStats()\n",
    "next(iter(d))\n",
    "next(iter(d.values()))"
   ]
  },
  {
   "cell_type": "code",
   "execution_count": null,
   "metadata": {},
   "outputs": [],
   "source": [
    "df_running = df[df[\"Activity Type\"].isin([\"Running\", \"Treadmill Running\"])]\n",
    "time =  TimedeltaIndex(pd.to_datetime(df_running['Time']).dt.strftime('%H:%M:%S'))\n",
    "round(time.sum() /  np.timedelta64(1, 'h'))"
   ]
  },
  {
   "cell_type": "code",
   "execution_count": 52,
   "metadata": {},
   "outputs": [],
   "source": [
    "a = '01:59:55'\n",
    "b = '00:30:17'\n",
    "d = '00:09:00'\n",
    "c = '00:15:03'\n",
    "d = {'col1': [a,b,c,d]}\n",
    "df = pd.DataFrame(data=d)\n",
    "sum = pd.to_timedelta(df[\"col1\"]).sum()"
   ]
  },
  {
   "cell_type": "markdown",
   "metadata": {},
   "source": [
    "Running stats"
   ]
  },
  {
   "cell_type": "code",
   "execution_count": 19,
   "metadata": {},
   "outputs": [],
   "source": [
    "df2 = df \n",
    "df2[\"Avg HR\"] = pd.to_numeric(df[\"Avg HR\"].replace(\"--\", \"0\"))\n",
    "df2[\"Date\"] = pd.to_datetime(df2[\"Date\"])\n",
    "df2[\"MonthYear\"] = df2['Date'].dt.to_period('M')"
   ]
  },
  {
   "cell_type": "code",
   "execution_count": 28,
   "metadata": {},
   "outputs": [],
   "source": [
    "grouped = df2.groupby([\"MonthYear\"])['Avg HR'].mean() # don't reset the index!\n",
    "df_new = grouped.reset_index()"
   ]
  },
  {
   "cell_type": "code",
   "execution_count": 33,
   "metadata": {},
   "outputs": [],
   "source": [
    "df_new[\"MonthYear\"]= df_new[\"MonthYear\"].astype(str)\n",
    "df_new[\"MonthYear\"] = pd.to_datetime(df_new[\"MonthYear\"])"
   ]
  },
  {
   "cell_type": "code",
   "execution_count": 36,
   "metadata": {},
   "outputs": [
    {
     "data": {
      "application/vnd.plotly.v1+json": {
       "config": {
        "plotlyServerURL": "https://plot.ly"
       },
       "data": [
        {
         "hovertemplate": "Дата (Месяц-Год)=%{x}<br>Средний Сердечный Ритм=%{y}<extra></extra>",
         "legendgroup": "",
         "line": {
          "color": "#636efa",
          "dash": "solid"
         },
         "marker": {
          "symbol": "circle"
         },
         "mode": "lines",
         "name": "",
         "orientation": "v",
         "showlegend": false,
         "type": "scatter",
         "x": [
          "2020-11-01T00:00:00",
          "2021-02-01T00:00:00",
          "2021-03-01T00:00:00",
          "2021-04-01T00:00:00",
          "2021-07-01T00:00:00",
          "2021-08-01T00:00:00",
          "2021-09-01T00:00:00",
          "2021-10-01T00:00:00",
          "2021-11-01T00:00:00",
          "2021-12-01T00:00:00",
          "2022-01-01T00:00:00",
          "2022-02-01T00:00:00",
          "2022-03-01T00:00:00",
          "2022-04-01T00:00:00",
          "2022-05-01T00:00:00",
          "2022-06-01T00:00:00",
          "2022-07-01T00:00:00",
          "2022-08-01T00:00:00",
          "2022-09-01T00:00:00",
          "2022-10-01T00:00:00",
          "2022-11-01T00:00:00",
          "2022-12-01T00:00:00",
          "2023-01-01T00:00:00",
          "2023-02-01T00:00:00",
          "2023-03-01T00:00:00",
          "2023-04-01T00:00:00",
          "2023-05-01T00:00:00",
          "2023-06-01T00:00:00",
          "2023-07-01T00:00:00",
          "2023-08-01T00:00:00",
          "2023-09-01T00:00:00",
          "2023-10-01T00:00:00",
          "2023-11-01T00:00:00",
          "2023-12-01T00:00:00",
          "2024-01-01T00:00:00",
          "2024-02-01T00:00:00",
          "2024-03-01T00:00:00",
          "2024-04-01T00:00:00",
          "2024-05-01T00:00:00",
          "2024-06-01T00:00:00",
          "2024-07-01T00:00:00",
          "2024-08-01T00:00:00",
          "2024-09-01T00:00:00",
          "2024-10-01T00:00:00"
         ],
         "xaxis": "x",
         "y": [
          153.6,
          153,
          152,
          157,
          165.0909090909091,
          155.75,
          156.8,
          161,
          127,
          157.85714285714286,
          152.3125,
          152.8,
          155.8,
          148.73684210526315,
          143.48,
          145.04761904761904,
          144.9375,
          152.5,
          151.04347826086956,
          153.78378378378378,
          156.3125,
          150.93548387096774,
          156.05555555555554,
          155.8,
          147.73469387755102,
          152.56666666666666,
          153.3409090909091,
          154.12,
          145.45454545454547,
          144.22727272727272,
          143.34285714285716,
          144.1153846153846,
          146.52173913043478,
          147.22222222222223,
          139.83333333333334,
          148.08,
          150.82608695652175,
          157.125,
          158.88235294117646,
          120.66666666666667,
          130.11111111111111,
          138,
          141.5,
          149.66666666666666
         ],
         "yaxis": "y"
        }
       ],
       "layout": {
        "legend": {
         "tracegroupgap": 0
        },
        "template": {
         "data": {
          "bar": [
           {
            "error_x": {
             "color": "#2a3f5f"
            },
            "error_y": {
             "color": "#2a3f5f"
            },
            "marker": {
             "line": {
              "color": "#E5ECF6",
              "width": 0.5
             },
             "pattern": {
              "fillmode": "overlay",
              "size": 10,
              "solidity": 0.2
             }
            },
            "type": "bar"
           }
          ],
          "barpolar": [
           {
            "marker": {
             "line": {
              "color": "#E5ECF6",
              "width": 0.5
             },
             "pattern": {
              "fillmode": "overlay",
              "size": 10,
              "solidity": 0.2
             }
            },
            "type": "barpolar"
           }
          ],
          "carpet": [
           {
            "aaxis": {
             "endlinecolor": "#2a3f5f",
             "gridcolor": "white",
             "linecolor": "white",
             "minorgridcolor": "white",
             "startlinecolor": "#2a3f5f"
            },
            "baxis": {
             "endlinecolor": "#2a3f5f",
             "gridcolor": "white",
             "linecolor": "white",
             "minorgridcolor": "white",
             "startlinecolor": "#2a3f5f"
            },
            "type": "carpet"
           }
          ],
          "choropleth": [
           {
            "colorbar": {
             "outlinewidth": 0,
             "ticks": ""
            },
            "type": "choropleth"
           }
          ],
          "contour": [
           {
            "colorbar": {
             "outlinewidth": 0,
             "ticks": ""
            },
            "colorscale": [
             [
              0,
              "#0d0887"
             ],
             [
              0.1111111111111111,
              "#46039f"
             ],
             [
              0.2222222222222222,
              "#7201a8"
             ],
             [
              0.3333333333333333,
              "#9c179e"
             ],
             [
              0.4444444444444444,
              "#bd3786"
             ],
             [
              0.5555555555555556,
              "#d8576b"
             ],
             [
              0.6666666666666666,
              "#ed7953"
             ],
             [
              0.7777777777777778,
              "#fb9f3a"
             ],
             [
              0.8888888888888888,
              "#fdca26"
             ],
             [
              1,
              "#f0f921"
             ]
            ],
            "type": "contour"
           }
          ],
          "contourcarpet": [
           {
            "colorbar": {
             "outlinewidth": 0,
             "ticks": ""
            },
            "type": "contourcarpet"
           }
          ],
          "heatmap": [
           {
            "colorbar": {
             "outlinewidth": 0,
             "ticks": ""
            },
            "colorscale": [
             [
              0,
              "#0d0887"
             ],
             [
              0.1111111111111111,
              "#46039f"
             ],
             [
              0.2222222222222222,
              "#7201a8"
             ],
             [
              0.3333333333333333,
              "#9c179e"
             ],
             [
              0.4444444444444444,
              "#bd3786"
             ],
             [
              0.5555555555555556,
              "#d8576b"
             ],
             [
              0.6666666666666666,
              "#ed7953"
             ],
             [
              0.7777777777777778,
              "#fb9f3a"
             ],
             [
              0.8888888888888888,
              "#fdca26"
             ],
             [
              1,
              "#f0f921"
             ]
            ],
            "type": "heatmap"
           }
          ],
          "heatmapgl": [
           {
            "colorbar": {
             "outlinewidth": 0,
             "ticks": ""
            },
            "colorscale": [
             [
              0,
              "#0d0887"
             ],
             [
              0.1111111111111111,
              "#46039f"
             ],
             [
              0.2222222222222222,
              "#7201a8"
             ],
             [
              0.3333333333333333,
              "#9c179e"
             ],
             [
              0.4444444444444444,
              "#bd3786"
             ],
             [
              0.5555555555555556,
              "#d8576b"
             ],
             [
              0.6666666666666666,
              "#ed7953"
             ],
             [
              0.7777777777777778,
              "#fb9f3a"
             ],
             [
              0.8888888888888888,
              "#fdca26"
             ],
             [
              1,
              "#f0f921"
             ]
            ],
            "type": "heatmapgl"
           }
          ],
          "histogram": [
           {
            "marker": {
             "pattern": {
              "fillmode": "overlay",
              "size": 10,
              "solidity": 0.2
             }
            },
            "type": "histogram"
           }
          ],
          "histogram2d": [
           {
            "colorbar": {
             "outlinewidth": 0,
             "ticks": ""
            },
            "colorscale": [
             [
              0,
              "#0d0887"
             ],
             [
              0.1111111111111111,
              "#46039f"
             ],
             [
              0.2222222222222222,
              "#7201a8"
             ],
             [
              0.3333333333333333,
              "#9c179e"
             ],
             [
              0.4444444444444444,
              "#bd3786"
             ],
             [
              0.5555555555555556,
              "#d8576b"
             ],
             [
              0.6666666666666666,
              "#ed7953"
             ],
             [
              0.7777777777777778,
              "#fb9f3a"
             ],
             [
              0.8888888888888888,
              "#fdca26"
             ],
             [
              1,
              "#f0f921"
             ]
            ],
            "type": "histogram2d"
           }
          ],
          "histogram2dcontour": [
           {
            "colorbar": {
             "outlinewidth": 0,
             "ticks": ""
            },
            "colorscale": [
             [
              0,
              "#0d0887"
             ],
             [
              0.1111111111111111,
              "#46039f"
             ],
             [
              0.2222222222222222,
              "#7201a8"
             ],
             [
              0.3333333333333333,
              "#9c179e"
             ],
             [
              0.4444444444444444,
              "#bd3786"
             ],
             [
              0.5555555555555556,
              "#d8576b"
             ],
             [
              0.6666666666666666,
              "#ed7953"
             ],
             [
              0.7777777777777778,
              "#fb9f3a"
             ],
             [
              0.8888888888888888,
              "#fdca26"
             ],
             [
              1,
              "#f0f921"
             ]
            ],
            "type": "histogram2dcontour"
           }
          ],
          "mesh3d": [
           {
            "colorbar": {
             "outlinewidth": 0,
             "ticks": ""
            },
            "type": "mesh3d"
           }
          ],
          "parcoords": [
           {
            "line": {
             "colorbar": {
              "outlinewidth": 0,
              "ticks": ""
             }
            },
            "type": "parcoords"
           }
          ],
          "pie": [
           {
            "automargin": true,
            "type": "pie"
           }
          ],
          "scatter": [
           {
            "fillpattern": {
             "fillmode": "overlay",
             "size": 10,
             "solidity": 0.2
            },
            "type": "scatter"
           }
          ],
          "scatter3d": [
           {
            "line": {
             "colorbar": {
              "outlinewidth": 0,
              "ticks": ""
             }
            },
            "marker": {
             "colorbar": {
              "outlinewidth": 0,
              "ticks": ""
             }
            },
            "type": "scatter3d"
           }
          ],
          "scattercarpet": [
           {
            "marker": {
             "colorbar": {
              "outlinewidth": 0,
              "ticks": ""
             }
            },
            "type": "scattercarpet"
           }
          ],
          "scattergeo": [
           {
            "marker": {
             "colorbar": {
              "outlinewidth": 0,
              "ticks": ""
             }
            },
            "type": "scattergeo"
           }
          ],
          "scattergl": [
           {
            "marker": {
             "colorbar": {
              "outlinewidth": 0,
              "ticks": ""
             }
            },
            "type": "scattergl"
           }
          ],
          "scattermapbox": [
           {
            "marker": {
             "colorbar": {
              "outlinewidth": 0,
              "ticks": ""
             }
            },
            "type": "scattermapbox"
           }
          ],
          "scatterpolar": [
           {
            "marker": {
             "colorbar": {
              "outlinewidth": 0,
              "ticks": ""
             }
            },
            "type": "scatterpolar"
           }
          ],
          "scatterpolargl": [
           {
            "marker": {
             "colorbar": {
              "outlinewidth": 0,
              "ticks": ""
             }
            },
            "type": "scatterpolargl"
           }
          ],
          "scatterternary": [
           {
            "marker": {
             "colorbar": {
              "outlinewidth": 0,
              "ticks": ""
             }
            },
            "type": "scatterternary"
           }
          ],
          "surface": [
           {
            "colorbar": {
             "outlinewidth": 0,
             "ticks": ""
            },
            "colorscale": [
             [
              0,
              "#0d0887"
             ],
             [
              0.1111111111111111,
              "#46039f"
             ],
             [
              0.2222222222222222,
              "#7201a8"
             ],
             [
              0.3333333333333333,
              "#9c179e"
             ],
             [
              0.4444444444444444,
              "#bd3786"
             ],
             [
              0.5555555555555556,
              "#d8576b"
             ],
             [
              0.6666666666666666,
              "#ed7953"
             ],
             [
              0.7777777777777778,
              "#fb9f3a"
             ],
             [
              0.8888888888888888,
              "#fdca26"
             ],
             [
              1,
              "#f0f921"
             ]
            ],
            "type": "surface"
           }
          ],
          "table": [
           {
            "cells": {
             "fill": {
              "color": "#EBF0F8"
             },
             "line": {
              "color": "white"
             }
            },
            "header": {
             "fill": {
              "color": "#C8D4E3"
             },
             "line": {
              "color": "white"
             }
            },
            "type": "table"
           }
          ]
         },
         "layout": {
          "annotationdefaults": {
           "arrowcolor": "#2a3f5f",
           "arrowhead": 0,
           "arrowwidth": 1
          },
          "autotypenumbers": "strict",
          "coloraxis": {
           "colorbar": {
            "outlinewidth": 0,
            "ticks": ""
           }
          },
          "colorscale": {
           "diverging": [
            [
             0,
             "#8e0152"
            ],
            [
             0.1,
             "#c51b7d"
            ],
            [
             0.2,
             "#de77ae"
            ],
            [
             0.3,
             "#f1b6da"
            ],
            [
             0.4,
             "#fde0ef"
            ],
            [
             0.5,
             "#f7f7f7"
            ],
            [
             0.6,
             "#e6f5d0"
            ],
            [
             0.7,
             "#b8e186"
            ],
            [
             0.8,
             "#7fbc41"
            ],
            [
             0.9,
             "#4d9221"
            ],
            [
             1,
             "#276419"
            ]
           ],
           "sequential": [
            [
             0,
             "#0d0887"
            ],
            [
             0.1111111111111111,
             "#46039f"
            ],
            [
             0.2222222222222222,
             "#7201a8"
            ],
            [
             0.3333333333333333,
             "#9c179e"
            ],
            [
             0.4444444444444444,
             "#bd3786"
            ],
            [
             0.5555555555555556,
             "#d8576b"
            ],
            [
             0.6666666666666666,
             "#ed7953"
            ],
            [
             0.7777777777777778,
             "#fb9f3a"
            ],
            [
             0.8888888888888888,
             "#fdca26"
            ],
            [
             1,
             "#f0f921"
            ]
           ],
           "sequentialminus": [
            [
             0,
             "#0d0887"
            ],
            [
             0.1111111111111111,
             "#46039f"
            ],
            [
             0.2222222222222222,
             "#7201a8"
            ],
            [
             0.3333333333333333,
             "#9c179e"
            ],
            [
             0.4444444444444444,
             "#bd3786"
            ],
            [
             0.5555555555555556,
             "#d8576b"
            ],
            [
             0.6666666666666666,
             "#ed7953"
            ],
            [
             0.7777777777777778,
             "#fb9f3a"
            ],
            [
             0.8888888888888888,
             "#fdca26"
            ],
            [
             1,
             "#f0f921"
            ]
           ]
          },
          "colorway": [
           "#636efa",
           "#EF553B",
           "#00cc96",
           "#ab63fa",
           "#FFA15A",
           "#19d3f3",
           "#FF6692",
           "#B6E880",
           "#FF97FF",
           "#FECB52"
          ],
          "font": {
           "color": "#2a3f5f"
          },
          "geo": {
           "bgcolor": "white",
           "lakecolor": "white",
           "landcolor": "#E5ECF6",
           "showlakes": true,
           "showland": true,
           "subunitcolor": "white"
          },
          "hoverlabel": {
           "align": "left"
          },
          "hovermode": "closest",
          "mapbox": {
           "style": "light"
          },
          "paper_bgcolor": "white",
          "plot_bgcolor": "#E5ECF6",
          "polar": {
           "angularaxis": {
            "gridcolor": "white",
            "linecolor": "white",
            "ticks": ""
           },
           "bgcolor": "#E5ECF6",
           "radialaxis": {
            "gridcolor": "white",
            "linecolor": "white",
            "ticks": ""
           }
          },
          "scene": {
           "xaxis": {
            "backgroundcolor": "#E5ECF6",
            "gridcolor": "white",
            "gridwidth": 2,
            "linecolor": "white",
            "showbackground": true,
            "ticks": "",
            "zerolinecolor": "white"
           },
           "yaxis": {
            "backgroundcolor": "#E5ECF6",
            "gridcolor": "white",
            "gridwidth": 2,
            "linecolor": "white",
            "showbackground": true,
            "ticks": "",
            "zerolinecolor": "white"
           },
           "zaxis": {
            "backgroundcolor": "#E5ECF6",
            "gridcolor": "white",
            "gridwidth": 2,
            "linecolor": "white",
            "showbackground": true,
            "ticks": "",
            "zerolinecolor": "white"
           }
          },
          "shapedefaults": {
           "line": {
            "color": "#2a3f5f"
           }
          },
          "ternary": {
           "aaxis": {
            "gridcolor": "white",
            "linecolor": "white",
            "ticks": ""
           },
           "baxis": {
            "gridcolor": "white",
            "linecolor": "white",
            "ticks": ""
           },
           "bgcolor": "#E5ECF6",
           "caxis": {
            "gridcolor": "white",
            "linecolor": "white",
            "ticks": ""
           }
          },
          "title": {
           "x": 0.05
          },
          "xaxis": {
           "automargin": true,
           "gridcolor": "white",
           "linecolor": "white",
           "ticks": "",
           "title": {
            "standoff": 15
           },
           "zerolinecolor": "white",
           "zerolinewidth": 2
          },
          "yaxis": {
           "automargin": true,
           "gridcolor": "white",
           "linecolor": "white",
           "ticks": "",
           "title": {
            "standoff": 15
           },
           "zerolinecolor": "white",
           "zerolinewidth": 2
          }
         }
        },
        "title": {
         "text": "Эволюция среднего сердечного ритма."
        },
        "xaxis": {
         "anchor": "y",
         "domain": [
          0,
          1
         ],
         "title": {
          "text": "Дата (Месяц-Год)"
         }
        },
        "yaxis": {
         "anchor": "x",
         "domain": [
          0,
          1
         ],
         "title": {
          "text": "Средний Сердечный Ритм"
         }
        }
       }
      }
     },
     "metadata": {},
     "output_type": "display_data"
    }
   ],
   "source": [
    "import plotly.express as px\n",
    "\n",
    "fig = px.line(df_new, x=\"MonthYear\", \n",
    "              y=\"Avg HR\", \n",
    "              title='Эволюция среднего сердечного ритма.',\n",
    "              labels = {\n",
    "                  \"MonthYear\":\"Дата (Месяц-Год)\",\n",
    "                  \"Avg HR\" : \"Средний Сердечный Ритм\"\n",
    "              })\n",
    "fig.show()"
   ]
  },
  {
   "cell_type": "code",
   "execution_count": 60,
   "metadata": {},
   "outputs": [
    {
     "name": "stdout",
     "output_type": "stream",
     "text": [
      "827\n",
      "284\n"
     ]
    },
    {
     "name": "stderr",
     "output_type": "stream",
     "text": [
      "C:\\Users\\nastj\\AppData\\Local\\Temp\\ipykernel_30036\\656009178.py:4: UserWarning:\n",
      "\n",
      "This pattern is interpreted as a regular expression, and has match groups. To actually get the groups, use str.extract.\n",
      "\n",
      "C:\\Users\\nastj\\AppData\\Local\\Temp\\ipykernel_30036\\656009178.py:7: SettingWithCopyWarning:\n",
      "\n",
      "\n",
      "A value is trying to be set on a copy of a slice from a DataFrame.\n",
      "Try using .loc[row_indexer,col_indexer] = value instead\n",
      "\n",
      "See the caveats in the documentation: https://pandas.pydata.org/pandas-docs/stable/user_guide/indexing.html#returning-a-view-versus-a-copy\n",
      "\n"
     ]
    }
   ],
   "source": [
    "df2 = df\n",
    "df2[\"Distance\"] = df2[\"Distance\"].astype(str)\n",
    "df2 = df2[df2['Distance'].str.contains(r'(\\d*)\\.(\\d*)')]\n",
    "\n",
    "df2[\"Distance\"] = pd.to_numeric(df[\"Distance\"].replace(\"--\", \"0\"))\n",
    "df2 = df2[df2.Distance != 0]\n",
    "df2[\"Date\"] = pd.to_datetime(df2[\"Date\"])\n",
    "df2[\"MonthYear\"] = df2[\"Date\"].dt.to_period(\"M\")\n",
    "\n",
    "\n"
   ]
  },
  {
   "cell_type": "code",
   "execution_count": 61,
   "metadata": {},
   "outputs": [
    {
     "data": {
      "application/vnd.plotly.v1+json": {
       "config": {
        "plotlyServerURL": "https://plot.ly"
       },
       "data": [
        {
         "hovertemplate": "Date=%{x}<br>Средний Сердечный Ритм=%{y}<extra></extra>",
         "legendgroup": "",
         "line": {
          "color": "#636efa",
          "dash": "solid"
         },
         "marker": {
          "symbol": "circle"
         },
         "mode": "lines",
         "name": "",
         "orientation": "v",
         "showlegend": false,
         "type": "scatter",
         "x": [
          "2024-10-03T19:51:00",
          "2024-09-30T08:59:00",
          "2024-05-26T11:11:00",
          "2024-05-22T16:23:00",
          "2024-05-20T09:03:00",
          "2024-05-17T14:38:00",
          "2024-05-15T14:47:00",
          "2024-05-14T09:11:00",
          "2024-05-12T14:20:00",
          "2024-05-10T10:18:00",
          "2024-05-08T08:28:00",
          "2024-05-07T14:45:00",
          "2024-05-05T13:46:00",
          "2024-05-01T14:52:00",
          "2024-04-30T13:59:00",
          "2024-04-29T15:50:00",
          "2024-04-28T09:40:00",
          "2024-04-26T14:51:00",
          "2024-04-25T07:01:00",
          "2024-04-23T11:21:00",
          "2024-04-21T10:45:00",
          "2024-04-19T15:43:00",
          "2024-04-18T12:22:00",
          "2024-04-17T18:47:00",
          "2024-04-11T07:18:00",
          "2024-04-09T07:17:00",
          "2024-04-06T07:50:00",
          "2024-04-03T07:52:00",
          "2024-04-02T08:21:00",
          "2024-03-30T07:54:00",
          "2024-03-27T12:12:00",
          "2024-03-25T17:24:00",
          "2024-03-21T10:53:00",
          "2024-03-19T11:01:00",
          "2024-03-18T10:04:00",
          "2024-03-16T15:58:00",
          "2024-03-15T11:11:00",
          "2024-03-14T10:58:00",
          "2024-03-10T11:17:00",
          "2024-03-07T11:25:00",
          "2024-03-05T14:09:00",
          "2024-03-02T11:40:00",
          "2024-02-29T09:33:00",
          "2024-02-27T11:19:00",
          "2024-02-23T12:09:00",
          "2024-02-23T11:47:00",
          "2024-02-21T11:57:00",
          "2024-02-18T09:00:00",
          "2024-02-16T17:03:00",
          "2024-02-14T11:00:00",
          "2024-02-12T09:37:00",
          "2024-02-10T15:25:00",
          "2024-02-08T15:25:00",
          "2024-02-06T13:13:00",
          "2024-02-06T12:50:00",
          "2024-01-21T10:27:00",
          "2024-01-04T11:26:00",
          "2023-12-06T17:59:00",
          "2023-12-04T17:55:00",
          "2023-12-02T10:16:00",
          "2023-11-19T12:07:00",
          "2023-11-13T06:09:00",
          "2023-11-01T06:35:00",
          "2023-10-30T06:03:00",
          "2023-10-22T11:43:00",
          "2023-10-21T11:47:00",
          "2023-10-15T07:18:00",
          "2023-10-08T10:36:00",
          "2023-10-07T17:19:00",
          "2023-09-30T14:25:00",
          "2023-09-30T11:10:00",
          "2023-09-29T17:08:00",
          "2023-09-24T10:16:00",
          "2023-09-23T18:04:00",
          "2023-09-23T11:09:00",
          "2023-09-21T19:00:00",
          "2023-09-20T11:57:00",
          "2023-09-19T10:28:00",
          "2023-09-10T09:33:00",
          "2023-09-07T12:56:00",
          "2023-09-07T10:02:00",
          "2023-09-06T15:47:00",
          "2023-09-06T10:02:00",
          "2023-09-05T12:20:00",
          "2023-09-04T14:35:00",
          "2023-09-04T12:26:00",
          "2023-09-03T16:04:00",
          "2023-09-03T10:16:00",
          "2023-09-02T08:32:00",
          "2023-08-09T12:43:00",
          "2023-07-29T17:36:00",
          "2023-07-28T18:06:00",
          "2023-07-26T19:17:00",
          "2023-07-22T10:37:00",
          "2023-07-21T11:16:00",
          "2023-07-20T10:04:00",
          "2023-07-19T07:55:00",
          "2023-07-03T07:08:00",
          "2023-06-14T10:22:00",
          "2023-06-13T08:04:00",
          "2023-06-12T07:24:00",
          "2023-06-04T15:12:00",
          "2023-05-30T08:10:00",
          "2023-05-28T08:39:00",
          "2023-05-26T06:31:00",
          "2023-05-18T20:33:00",
          "2023-05-12T12:09:00",
          "2023-05-10T07:01:00",
          "2023-05-05T08:58:00",
          "2023-05-03T06:58:00",
          "2023-05-01T08:52:00",
          "2023-04-27T06:36:00",
          "2023-04-25T06:27:00",
          "2023-04-23T10:58:00",
          "2023-04-22T17:31:00",
          "2023-04-20T07:11:00",
          "2023-04-18T06:12:00",
          "2023-04-17T06:11:00",
          "2023-04-15T15:24:00",
          "2023-04-13T18:09:00",
          "2023-04-11T09:02:00",
          "2023-04-10T16:52:00",
          "2023-04-09T14:49:00",
          "2023-04-09T10:31:00",
          "2023-04-05T10:28:00",
          "2023-04-04T09:23:00",
          "2023-04-03T10:22:00",
          "2023-03-30T09:34:00",
          "2023-03-28T06:05:00",
          "2023-03-27T06:04:00",
          "2023-03-24T06:29:00",
          "2023-03-22T06:11:00",
          "2023-03-21T06:19:00",
          "2023-03-19T10:31:00",
          "2023-03-18T07:49:00",
          "2023-03-17T06:46:00",
          "2023-03-15T06:12:00",
          "2023-03-12T07:58:00",
          "2023-03-11T07:44:00",
          "2023-03-10T06:17:00",
          "2023-03-09T05:54:00",
          "2023-03-07T06:07:00",
          "2023-03-04T08:18:00",
          "2023-03-01T06:09:00",
          "2023-02-28T06:11:00",
          "2023-02-27T06:11:00",
          "2023-02-25T10:13:00",
          "2023-02-22T05:32:00",
          "2023-02-21T06:08:00",
          "2023-02-20T06:11:00",
          "2023-02-15T08:21:00",
          "2023-02-14T05:38:00",
          "2023-02-12T09:24:00",
          "2023-02-08T08:27:00",
          "2023-02-07T09:35:00",
          "2023-02-06T08:50:00",
          "2023-01-31T10:53:00",
          "2023-01-25T10:53:00",
          "2023-01-22T05:51:00",
          "2023-01-18T05:52:00",
          "2023-01-15T05:52:00",
          "2023-01-12T09:32:00",
          "2023-01-09T06:25:00",
          "2023-01-04T06:30:00",
          "2022-12-31T06:32:00",
          "2022-12-29T06:26:00",
          "2022-12-21T06:31:00",
          "2022-12-14T05:58:00",
          "2022-12-10T06:39:00",
          "2022-12-07T06:42:00",
          "2022-12-01T06:35:00",
          "2022-11-28T06:14:00",
          "2022-11-23T06:40:00",
          "2022-11-21T06:45:00",
          "2022-11-20T07:56:00",
          "2022-11-18T06:50:00",
          "2022-11-16T06:38:00",
          "2022-11-14T06:46:00",
          "2022-11-09T06:41:00",
          "2022-11-07T06:44:00",
          "2022-11-03T06:44:00",
          "2022-10-27T06:39:00",
          "2022-10-26T06:35:00",
          "2022-10-19T06:04:00",
          "2022-10-17T06:44:00",
          "2022-10-13T06:35:00",
          "2022-10-12T06:00:00",
          "2022-10-11T05:57:00",
          "2022-10-05T06:08:00",
          "2022-10-03T05:48:00",
          "2022-10-01T09:51:00",
          "2022-09-30T07:10:00",
          "2022-09-28T07:00:00",
          "2022-09-25T17:09:00",
          "2022-09-22T09:13:00",
          "2022-09-21T07:42:00",
          "2022-09-19T09:09:00",
          "2022-09-04T08:31:00",
          "2022-09-03T09:17:00",
          "2022-08-31T18:04:00",
          "2022-08-30T18:22:00",
          "2022-08-27T08:19:00",
          "2022-08-24T21:28:00",
          "2022-08-21T09:32:00",
          "2022-07-26T18:38:00",
          "2022-07-23T08:24:00",
          "2022-07-17T14:04:00",
          "2022-07-17T09:43:00",
          "2022-07-16T10:01:00",
          "2022-07-06T08:24:00",
          "2022-07-05T09:30:00",
          "2022-06-30T09:06:00",
          "2022-05-02T14:56:00",
          "2022-05-02T14:38:00",
          "2022-05-02T14:26:00",
          "2022-04-24T14:41:00",
          "2022-04-17T15:09:00",
          "2022-04-16T08:23:00",
          "2022-04-12T08:34:00",
          "2022-04-11T12:51:00",
          "2022-04-11T10:47:00",
          "2022-04-03T08:26:00",
          "2022-03-26T11:06:00",
          "2022-03-25T09:29:00",
          "2022-03-19T10:24:00",
          "2022-03-18T11:25:00",
          "2022-03-13T08:13:00",
          "2022-03-12T08:21:00",
          "2022-03-06T08:56:00",
          "2022-03-02T08:51:00",
          "2022-03-02T08:40:00",
          "2022-02-27T09:33:00",
          "2022-02-26T10:12:00",
          "2022-02-19T10:38:00",
          "2022-02-13T09:48:00",
          "2022-02-11T08:57:00",
          "2022-02-07T09:47:00",
          "2022-01-07T10:22:00",
          "2022-01-06T16:27:00",
          "2022-01-05T10:01:00",
          "2022-01-04T09:13:00",
          "2022-01-01T08:35:00",
          "2021-12-28T10:49:00",
          "2021-12-27T17:07:00",
          "2021-12-22T09:27:00",
          "2021-12-21T09:00:00",
          "2021-12-18T09:31:00",
          "2021-09-25T07:51:00",
          "2021-09-25T07:35:00",
          "2021-09-14T09:51:00",
          "2021-09-12T10:31:00",
          "2021-09-04T11:17:00",
          "2021-08-28T15:49:00",
          "2021-08-27T18:13:00",
          "2021-08-24T17:12:00",
          "2021-08-19T08:08:00",
          "2021-08-09T08:46:00",
          "2021-08-07T10:25:00",
          "2021-08-05T17:15:00",
          "2021-07-31T09:32:00",
          "2021-07-25T10:04:00",
          "2021-07-23T09:13:00",
          "2021-07-21T13:45:00",
          "2021-07-18T11:02:00",
          "2021-07-18T10:39:00",
          "2021-07-11T17:54:00",
          "2021-07-08T17:36:00",
          "2021-07-03T14:50:00",
          "2021-04-17T13:46:00",
          "2021-04-01T15:54:00",
          "2021-03-31T17:18:00",
          "2021-03-29T17:38:00",
          "2021-03-28T18:04:00",
          "2021-03-07T15:36:00",
          "2021-03-07T14:38:00",
          "2021-02-28T14:54:00",
          "2021-02-25T08:55:00",
          "2021-02-21T13:29:00",
          "2021-02-21T09:20:00",
          "2020-11-12T11:31:00",
          "2020-11-07T10:54:00",
          "2020-11-06T15:57:00",
          "2020-11-05T18:39:00",
          "2020-11-04T17:23:00"
         ],
         "xaxis": "x",
         "y": [
          1.49,
          1.71,
          20.37,
          2.58,
          9.96,
          2.11,
          4.3,
          4.01,
          6.88,
          8.18,
          8.54,
          2.68,
          10.54,
          5.15,
          5.22,
          3.42,
          8.45,
          3.41,
          7.52,
          3.65,
          7.91,
          9.52,
          4.6,
          4.4,
          2.86,
          3.34,
          5.34,
          3.64,
          8.73,
          8.12,
          2.69,
          2.65,
          8.35,
          3.54,
          3.63,
          3.14,
          5.55,
          4.37,
          10.05,
          8.31,
          5.36,
          7.25,
          6.76,
          5.86,
          4.08,
          0.96,
          5.93,
          2.02,
          3.81,
          4.84,
          2.01,
          2.94,
          5.05,
          0.37,
          2.01,
          2.15,
          0.83,
          5.01,
          5.01,
          4.79,
          1.41,
          0.45,
          1.03,
          1.31,
          4.01,
          5.01,
          2.55,
          6.11,
          1.01,
          18.69,
          24.43,
          10.14,
          9.39,
          3.47,
          5.8,
          4.07,
          2.18,
          1.46,
          3.71,
          2.95,
          5.38,
          6.66,
          2.5,
          4.7,
          2.92,
          1.39,
          5.66,
          4.42,
          1.64,
          1.01,
          4.3,
          3.59,
          3.01,
          9.11,
          8.94,
          1.01,
          0.5,
          2.14,
          1.6,
          3.76,
          0.59,
          2.05,
          0.77,
          1.45,
          1.25,
          3.28,
          2.61,
          1.24,
          2.54,
          2.01,
          2.31,
          2.49,
          1.02,
          4.01,
          4.73,
          2.01,
          2.01,
          1.55,
          4.56,
          4.01,
          5.17,
          2.01,
          8.88,
          4.01,
          2.84,
          4.59,
          4.13,
          1.93,
          2.37,
          2.58,
          3.02,
          2.01,
          1.28,
          4.81,
          3.47,
          3.34,
          2.03,
          3.42,
          3.55,
          2.01,
          1.83,
          1.61,
          2.56,
          1.7,
          1.85,
          1.77,
          10.77,
          1.31,
          1.02,
          1.65,
          1.62,
          3.26,
          1.46,
          3.27,
          1.03,
          0.99,
          2.83,
          3.45,
          3.43,
          3.44,
          3.35,
          3.52,
          2.53,
          2.45,
          1.61,
          2.51,
          2.61,
          2.55,
          2.62,
          2.44,
          2.45,
          2.49,
          0.75,
          0.8,
          0.94,
          0.9,
          1.91,
          1.61,
          1.89,
          0.55,
          1.74,
          1.65,
          2.6,
          1.33,
          1.22,
          1.07,
          2.4,
          1.45,
          2.61,
          1.59,
          1.35,
          1.64,
          1.67,
          1.5,
          2.46,
          2.18,
          4.01,
          4.01,
          4.41,
          2.21,
          0.55,
          2.64,
          0.82,
          3.12,
          2.34,
          2.45,
          3.31,
          2.64,
          3.8,
          2.93,
          1.06,
          3.18,
          3.01,
          3.01,
          2.01,
          5.01,
          3.02,
          2.25,
          2.16,
          1.3,
          1.97,
          1.89,
          2.58,
          2.57,
          2.54,
          2.21,
          2.42,
          2.22,
          2.66,
          0.85,
          1.69,
          2.6,
          3.01,
          2.03,
          2.49,
          2.31,
          1.39,
          3.01,
          2.52,
          3.01,
          2.43,
          3.01,
          1.92,
          2.67,
          2.47,
          2.19,
          2.34,
          0.43,
          2.13,
          3.09,
          3.01,
          5.07,
          2.29,
          1.01,
          3.01,
          3.03,
          2.46,
          3.01,
          3.01,
          3.01,
          2.5,
          4.01,
          0.51,
          0.79,
          3.9,
          2.01,
          2.01,
          2.99,
          1.99,
          1.97,
          0.36,
          2.2,
          3.01,
          1.16,
          1.3,
          3.09,
          2.83,
          1.72,
          1.45,
          3.29,
          4.77,
          2.02,
          2.01,
          4.83
         ],
         "yaxis": "y"
        }
       ],
       "layout": {
        "legend": {
         "tracegroupgap": 0
        },
        "template": {
         "data": {
          "bar": [
           {
            "error_x": {
             "color": "#2a3f5f"
            },
            "error_y": {
             "color": "#2a3f5f"
            },
            "marker": {
             "line": {
              "color": "#E5ECF6",
              "width": 0.5
             },
             "pattern": {
              "fillmode": "overlay",
              "size": 10,
              "solidity": 0.2
             }
            },
            "type": "bar"
           }
          ],
          "barpolar": [
           {
            "marker": {
             "line": {
              "color": "#E5ECF6",
              "width": 0.5
             },
             "pattern": {
              "fillmode": "overlay",
              "size": 10,
              "solidity": 0.2
             }
            },
            "type": "barpolar"
           }
          ],
          "carpet": [
           {
            "aaxis": {
             "endlinecolor": "#2a3f5f",
             "gridcolor": "white",
             "linecolor": "white",
             "minorgridcolor": "white",
             "startlinecolor": "#2a3f5f"
            },
            "baxis": {
             "endlinecolor": "#2a3f5f",
             "gridcolor": "white",
             "linecolor": "white",
             "minorgridcolor": "white",
             "startlinecolor": "#2a3f5f"
            },
            "type": "carpet"
           }
          ],
          "choropleth": [
           {
            "colorbar": {
             "outlinewidth": 0,
             "ticks": ""
            },
            "type": "choropleth"
           }
          ],
          "contour": [
           {
            "colorbar": {
             "outlinewidth": 0,
             "ticks": ""
            },
            "colorscale": [
             [
              0,
              "#0d0887"
             ],
             [
              0.1111111111111111,
              "#46039f"
             ],
             [
              0.2222222222222222,
              "#7201a8"
             ],
             [
              0.3333333333333333,
              "#9c179e"
             ],
             [
              0.4444444444444444,
              "#bd3786"
             ],
             [
              0.5555555555555556,
              "#d8576b"
             ],
             [
              0.6666666666666666,
              "#ed7953"
             ],
             [
              0.7777777777777778,
              "#fb9f3a"
             ],
             [
              0.8888888888888888,
              "#fdca26"
             ],
             [
              1,
              "#f0f921"
             ]
            ],
            "type": "contour"
           }
          ],
          "contourcarpet": [
           {
            "colorbar": {
             "outlinewidth": 0,
             "ticks": ""
            },
            "type": "contourcarpet"
           }
          ],
          "heatmap": [
           {
            "colorbar": {
             "outlinewidth": 0,
             "ticks": ""
            },
            "colorscale": [
             [
              0,
              "#0d0887"
             ],
             [
              0.1111111111111111,
              "#46039f"
             ],
             [
              0.2222222222222222,
              "#7201a8"
             ],
             [
              0.3333333333333333,
              "#9c179e"
             ],
             [
              0.4444444444444444,
              "#bd3786"
             ],
             [
              0.5555555555555556,
              "#d8576b"
             ],
             [
              0.6666666666666666,
              "#ed7953"
             ],
             [
              0.7777777777777778,
              "#fb9f3a"
             ],
             [
              0.8888888888888888,
              "#fdca26"
             ],
             [
              1,
              "#f0f921"
             ]
            ],
            "type": "heatmap"
           }
          ],
          "heatmapgl": [
           {
            "colorbar": {
             "outlinewidth": 0,
             "ticks": ""
            },
            "colorscale": [
             [
              0,
              "#0d0887"
             ],
             [
              0.1111111111111111,
              "#46039f"
             ],
             [
              0.2222222222222222,
              "#7201a8"
             ],
             [
              0.3333333333333333,
              "#9c179e"
             ],
             [
              0.4444444444444444,
              "#bd3786"
             ],
             [
              0.5555555555555556,
              "#d8576b"
             ],
             [
              0.6666666666666666,
              "#ed7953"
             ],
             [
              0.7777777777777778,
              "#fb9f3a"
             ],
             [
              0.8888888888888888,
              "#fdca26"
             ],
             [
              1,
              "#f0f921"
             ]
            ],
            "type": "heatmapgl"
           }
          ],
          "histogram": [
           {
            "marker": {
             "pattern": {
              "fillmode": "overlay",
              "size": 10,
              "solidity": 0.2
             }
            },
            "type": "histogram"
           }
          ],
          "histogram2d": [
           {
            "colorbar": {
             "outlinewidth": 0,
             "ticks": ""
            },
            "colorscale": [
             [
              0,
              "#0d0887"
             ],
             [
              0.1111111111111111,
              "#46039f"
             ],
             [
              0.2222222222222222,
              "#7201a8"
             ],
             [
              0.3333333333333333,
              "#9c179e"
             ],
             [
              0.4444444444444444,
              "#bd3786"
             ],
             [
              0.5555555555555556,
              "#d8576b"
             ],
             [
              0.6666666666666666,
              "#ed7953"
             ],
             [
              0.7777777777777778,
              "#fb9f3a"
             ],
             [
              0.8888888888888888,
              "#fdca26"
             ],
             [
              1,
              "#f0f921"
             ]
            ],
            "type": "histogram2d"
           }
          ],
          "histogram2dcontour": [
           {
            "colorbar": {
             "outlinewidth": 0,
             "ticks": ""
            },
            "colorscale": [
             [
              0,
              "#0d0887"
             ],
             [
              0.1111111111111111,
              "#46039f"
             ],
             [
              0.2222222222222222,
              "#7201a8"
             ],
             [
              0.3333333333333333,
              "#9c179e"
             ],
             [
              0.4444444444444444,
              "#bd3786"
             ],
             [
              0.5555555555555556,
              "#d8576b"
             ],
             [
              0.6666666666666666,
              "#ed7953"
             ],
             [
              0.7777777777777778,
              "#fb9f3a"
             ],
             [
              0.8888888888888888,
              "#fdca26"
             ],
             [
              1,
              "#f0f921"
             ]
            ],
            "type": "histogram2dcontour"
           }
          ],
          "mesh3d": [
           {
            "colorbar": {
             "outlinewidth": 0,
             "ticks": ""
            },
            "type": "mesh3d"
           }
          ],
          "parcoords": [
           {
            "line": {
             "colorbar": {
              "outlinewidth": 0,
              "ticks": ""
             }
            },
            "type": "parcoords"
           }
          ],
          "pie": [
           {
            "automargin": true,
            "type": "pie"
           }
          ],
          "scatter": [
           {
            "fillpattern": {
             "fillmode": "overlay",
             "size": 10,
             "solidity": 0.2
            },
            "type": "scatter"
           }
          ],
          "scatter3d": [
           {
            "line": {
             "colorbar": {
              "outlinewidth": 0,
              "ticks": ""
             }
            },
            "marker": {
             "colorbar": {
              "outlinewidth": 0,
              "ticks": ""
             }
            },
            "type": "scatter3d"
           }
          ],
          "scattercarpet": [
           {
            "marker": {
             "colorbar": {
              "outlinewidth": 0,
              "ticks": ""
             }
            },
            "type": "scattercarpet"
           }
          ],
          "scattergeo": [
           {
            "marker": {
             "colorbar": {
              "outlinewidth": 0,
              "ticks": ""
             }
            },
            "type": "scattergeo"
           }
          ],
          "scattergl": [
           {
            "marker": {
             "colorbar": {
              "outlinewidth": 0,
              "ticks": ""
             }
            },
            "type": "scattergl"
           }
          ],
          "scattermapbox": [
           {
            "marker": {
             "colorbar": {
              "outlinewidth": 0,
              "ticks": ""
             }
            },
            "type": "scattermapbox"
           }
          ],
          "scatterpolar": [
           {
            "marker": {
             "colorbar": {
              "outlinewidth": 0,
              "ticks": ""
             }
            },
            "type": "scatterpolar"
           }
          ],
          "scatterpolargl": [
           {
            "marker": {
             "colorbar": {
              "outlinewidth": 0,
              "ticks": ""
             }
            },
            "type": "scatterpolargl"
           }
          ],
          "scatterternary": [
           {
            "marker": {
             "colorbar": {
              "outlinewidth": 0,
              "ticks": ""
             }
            },
            "type": "scatterternary"
           }
          ],
          "surface": [
           {
            "colorbar": {
             "outlinewidth": 0,
             "ticks": ""
            },
            "colorscale": [
             [
              0,
              "#0d0887"
             ],
             [
              0.1111111111111111,
              "#46039f"
             ],
             [
              0.2222222222222222,
              "#7201a8"
             ],
             [
              0.3333333333333333,
              "#9c179e"
             ],
             [
              0.4444444444444444,
              "#bd3786"
             ],
             [
              0.5555555555555556,
              "#d8576b"
             ],
             [
              0.6666666666666666,
              "#ed7953"
             ],
             [
              0.7777777777777778,
              "#fb9f3a"
             ],
             [
              0.8888888888888888,
              "#fdca26"
             ],
             [
              1,
              "#f0f921"
             ]
            ],
            "type": "surface"
           }
          ],
          "table": [
           {
            "cells": {
             "fill": {
              "color": "#EBF0F8"
             },
             "line": {
              "color": "white"
             }
            },
            "header": {
             "fill": {
              "color": "#C8D4E3"
             },
             "line": {
              "color": "white"
             }
            },
            "type": "table"
           }
          ]
         },
         "layout": {
          "annotationdefaults": {
           "arrowcolor": "#2a3f5f",
           "arrowhead": 0,
           "arrowwidth": 1
          },
          "autotypenumbers": "strict",
          "coloraxis": {
           "colorbar": {
            "outlinewidth": 0,
            "ticks": ""
           }
          },
          "colorscale": {
           "diverging": [
            [
             0,
             "#8e0152"
            ],
            [
             0.1,
             "#c51b7d"
            ],
            [
             0.2,
             "#de77ae"
            ],
            [
             0.3,
             "#f1b6da"
            ],
            [
             0.4,
             "#fde0ef"
            ],
            [
             0.5,
             "#f7f7f7"
            ],
            [
             0.6,
             "#e6f5d0"
            ],
            [
             0.7,
             "#b8e186"
            ],
            [
             0.8,
             "#7fbc41"
            ],
            [
             0.9,
             "#4d9221"
            ],
            [
             1,
             "#276419"
            ]
           ],
           "sequential": [
            [
             0,
             "#0d0887"
            ],
            [
             0.1111111111111111,
             "#46039f"
            ],
            [
             0.2222222222222222,
             "#7201a8"
            ],
            [
             0.3333333333333333,
             "#9c179e"
            ],
            [
             0.4444444444444444,
             "#bd3786"
            ],
            [
             0.5555555555555556,
             "#d8576b"
            ],
            [
             0.6666666666666666,
             "#ed7953"
            ],
            [
             0.7777777777777778,
             "#fb9f3a"
            ],
            [
             0.8888888888888888,
             "#fdca26"
            ],
            [
             1,
             "#f0f921"
            ]
           ],
           "sequentialminus": [
            [
             0,
             "#0d0887"
            ],
            [
             0.1111111111111111,
             "#46039f"
            ],
            [
             0.2222222222222222,
             "#7201a8"
            ],
            [
             0.3333333333333333,
             "#9c179e"
            ],
            [
             0.4444444444444444,
             "#bd3786"
            ],
            [
             0.5555555555555556,
             "#d8576b"
            ],
            [
             0.6666666666666666,
             "#ed7953"
            ],
            [
             0.7777777777777778,
             "#fb9f3a"
            ],
            [
             0.8888888888888888,
             "#fdca26"
            ],
            [
             1,
             "#f0f921"
            ]
           ]
          },
          "colorway": [
           "#636efa",
           "#EF553B",
           "#00cc96",
           "#ab63fa",
           "#FFA15A",
           "#19d3f3",
           "#FF6692",
           "#B6E880",
           "#FF97FF",
           "#FECB52"
          ],
          "font": {
           "color": "#2a3f5f"
          },
          "geo": {
           "bgcolor": "white",
           "lakecolor": "white",
           "landcolor": "#E5ECF6",
           "showlakes": true,
           "showland": true,
           "subunitcolor": "white"
          },
          "hoverlabel": {
           "align": "left"
          },
          "hovermode": "closest",
          "mapbox": {
           "style": "light"
          },
          "paper_bgcolor": "white",
          "plot_bgcolor": "#E5ECF6",
          "polar": {
           "angularaxis": {
            "gridcolor": "white",
            "linecolor": "white",
            "ticks": ""
           },
           "bgcolor": "#E5ECF6",
           "radialaxis": {
            "gridcolor": "white",
            "linecolor": "white",
            "ticks": ""
           }
          },
          "scene": {
           "xaxis": {
            "backgroundcolor": "#E5ECF6",
            "gridcolor": "white",
            "gridwidth": 2,
            "linecolor": "white",
            "showbackground": true,
            "ticks": "",
            "zerolinecolor": "white"
           },
           "yaxis": {
            "backgroundcolor": "#E5ECF6",
            "gridcolor": "white",
            "gridwidth": 2,
            "linecolor": "white",
            "showbackground": true,
            "ticks": "",
            "zerolinecolor": "white"
           },
           "zaxis": {
            "backgroundcolor": "#E5ECF6",
            "gridcolor": "white",
            "gridwidth": 2,
            "linecolor": "white",
            "showbackground": true,
            "ticks": "",
            "zerolinecolor": "white"
           }
          },
          "shapedefaults": {
           "line": {
            "color": "#2a3f5f"
           }
          },
          "ternary": {
           "aaxis": {
            "gridcolor": "white",
            "linecolor": "white",
            "ticks": ""
           },
           "baxis": {
            "gridcolor": "white",
            "linecolor": "white",
            "ticks": ""
           },
           "bgcolor": "#E5ECF6",
           "caxis": {
            "gridcolor": "white",
            "linecolor": "white",
            "ticks": ""
           }
          },
          "title": {
           "x": 0.05
          },
          "xaxis": {
           "automargin": true,
           "gridcolor": "white",
           "linecolor": "white",
           "ticks": "",
           "title": {
            "standoff": 15
           },
           "zerolinecolor": "white",
           "zerolinewidth": 2
          },
          "yaxis": {
           "automargin": true,
           "gridcolor": "white",
           "linecolor": "white",
           "ticks": "",
           "title": {
            "standoff": 15
           },
           "zerolinecolor": "white",
           "zerolinewidth": 2
          }
         }
        },
        "title": {
         "text": "Эволюция среднего сердечного ритма."
        },
        "xaxis": {
         "anchor": "y",
         "domain": [
          0,
          1
         ],
         "title": {
          "text": "Date"
         }
        },
        "yaxis": {
         "anchor": "x",
         "domain": [
          0,
          1
         ],
         "title": {
          "text": "Средний Сердечный Ритм"
         }
        }
       }
      }
     },
     "metadata": {},
     "output_type": "display_data"
    }
   ],
   "source": [
    "fig = px.line(df2, x=\"Date\", \n",
    "              y=\"Distance\", \n",
    "              title='Эволюция среднего сердечного ритма.',\n",
    "              labels = {\n",
    "                  \"MonthYear\":\"Дата (Месяц-Год)\",\n",
    "                  \"Distance\" : \"Средний Сердечный Ритм\"\n",
    "              })\n",
    "fig.show()"
   ]
  },
  {
   "cell_type": "code",
   "execution_count": 74,
   "metadata": {},
   "outputs": [
    {
     "data": {
      "text/plain": [
       "0       --\n",
       "1       --\n",
       "2       --\n",
       "3       --\n",
       "4       --\n",
       "      ... \n",
       "822    3.2\n",
       "823    3.1\n",
       "824    2.6\n",
       "825    2.6\n",
       "826      5\n",
       "Name: Aerobic TE, Length: 827, dtype: object"
      ]
     },
     "execution_count": 74,
     "metadata": {},
     "output_type": "execute_result"
    }
   ],
   "source": [
    "df[\"Aerobic TE\"]"
   ]
  },
  {
   "cell_type": "code",
   "execution_count": 94,
   "metadata": {},
   "outputs": [
    {
     "name": "stderr",
     "output_type": "stream",
     "text": [
      "C:\\Users\\nastj\\AppData\\Local\\Temp\\ipykernel_30036\\1221656973.py:3: SettingWithCopyWarning:\n",
      "\n",
      "\n",
      "A value is trying to be set on a copy of a slice from a DataFrame.\n",
      "Try using .loc[row_indexer,col_indexer] = value instead\n",
      "\n",
      "See the caveats in the documentation: https://pandas.pydata.org/pandas-docs/stable/user_guide/indexing.html#returning-a-view-versus-a-copy\n",
      "\n",
      "C:\\Users\\nastj\\AppData\\Local\\Temp\\ipykernel_30036\\1221656973.py:4: SettingWithCopyWarning:\n",
      "\n",
      "\n",
      "A value is trying to be set on a copy of a slice from a DataFrame.\n",
      "Try using .loc[row_indexer,col_indexer] = value instead\n",
      "\n",
      "See the caveats in the documentation: https://pandas.pydata.org/pandas-docs/stable/user_guide/indexing.html#returning-a-view-versus-a-copy\n",
      "\n",
      "C:\\Users\\nastj\\AppData\\Local\\Temp\\ipykernel_30036\\1221656973.py:5: SettingWithCopyWarning:\n",
      "\n",
      "\n",
      "A value is trying to be set on a copy of a slice from a DataFrame.\n",
      "Try using .loc[row_indexer,col_indexer] = value instead\n",
      "\n",
      "See the caveats in the documentation: https://pandas.pydata.org/pandas-docs/stable/user_guide/indexing.html#returning-a-view-versus-a-copy\n",
      "\n"
     ]
    }
   ],
   "source": [
    "df_running = df[df[\"Activity Type\"].isin([\"Running\", \"Treadmill Running\"])]\n",
    "df2 = df_running \n",
    "df2[\"Aerobic TE\"] = pd.to_numeric(df[\"Aerobic TE\"].replace(\"--\", \"0\"))\n",
    "df2[\"Date\"] = pd.to_datetime(df2[\"Date\"])\n",
    "df2[\"MonthYear\"] = df2['Date'].dt.to_period('M')\n",
    "df2 = df2[df2[\"Aerobic TE\"] != 0]\n",
    "\n",
    "grouped = df2.groupby([\"MonthYear\"])['Aerobic TE'].mean() # don't reset the index!\n",
    "df_new = grouped.reset_index()\n",
    "\n",
    "df_new[\"MonthYear\"]= df_new[\"MonthYear\"].astype(str)\n",
    "df_new[\"MonthYear\"] = pd.to_datetime(df_new[\"MonthYear\"])"
   ]
  },
  {
   "cell_type": "code",
   "execution_count": 78,
   "metadata": {},
   "outputs": [
    {
     "data": {
      "text/plain": [
       "5      2.9\n",
       "6      3.3\n",
       "7      2.6\n",
       "8      2.0\n",
       "9      2.5\n",
       "      ... \n",
       "822    3.2\n",
       "823    3.1\n",
       "824    2.6\n",
       "825    2.6\n",
       "826    5.0\n",
       "Name: Aerobic TE, Length: 821, dtype: float64"
      ]
     },
     "execution_count": 78,
     "metadata": {},
     "output_type": "execute_result"
    }
   ],
   "source": [
    "df2[\"Aerobic TE\"]"
   ]
  },
  {
   "cell_type": "code",
   "execution_count": 98,
   "metadata": {},
   "outputs": [
    {
     "data": {
      "application/vnd.plotly.v1+json": {
       "config": {
        "plotlyServerURL": "https://plot.ly"
       },
       "data": [
        {
         "hovertemplate": "Дата (Месяц-Год)=%{x}<br>Aerobic TE=%{y}<extra></extra>",
         "legendgroup": "",
         "line": {
          "color": "#636efa",
          "dash": "solid"
         },
         "marker": {
          "symbol": "circle"
         },
         "mode": "lines",
         "name": "",
         "orientation": "v",
         "showlegend": false,
         "type": "scatter",
         "x": [
          "2020-11-01T00:00:00",
          "2021-02-01T00:00:00",
          "2021-03-01T00:00:00",
          "2021-04-01T00:00:00",
          "2021-07-01T00:00:00",
          "2021-08-01T00:00:00",
          "2021-09-01T00:00:00",
          "2021-12-01T00:00:00",
          "2022-01-01T00:00:00",
          "2022-02-01T00:00:00",
          "2022-03-01T00:00:00",
          "2022-04-01T00:00:00",
          "2022-05-01T00:00:00",
          "2022-06-01T00:00:00",
          "2022-07-01T00:00:00",
          "2022-08-01T00:00:00",
          "2022-09-01T00:00:00",
          "2022-10-01T00:00:00",
          "2022-11-01T00:00:00",
          "2022-12-01T00:00:00",
          "2023-01-01T00:00:00",
          "2023-02-01T00:00:00",
          "2023-03-01T00:00:00",
          "2023-04-01T00:00:00",
          "2023-05-01T00:00:00",
          "2023-06-01T00:00:00",
          "2023-07-01T00:00:00",
          "2023-08-01T00:00:00",
          "2023-09-01T00:00:00",
          "2023-10-01T00:00:00",
          "2023-11-01T00:00:00",
          "2023-12-01T00:00:00",
          "2024-01-01T00:00:00",
          "2024-02-01T00:00:00",
          "2024-03-01T00:00:00",
          "2024-04-01T00:00:00",
          "2024-05-01T00:00:00"
         ],
         "xaxis": "x",
         "y": [
          3.3,
          2.675,
          2.2,
          2.6,
          2.83,
          3,
          2.675,
          3.06,
          3.28,
          3.12,
          3.022222222222222,
          3.2444444444444445,
          3.15,
          3.6,
          3.4333333333333336,
          2.8600000000000003,
          2.95,
          2.5100000000000002,
          2.2199999999999998,
          2.814285714285714,
          3.175,
          2.590909090909091,
          2.8666666666666667,
          3.1933333333333334,
          2.5555555555555554,
          2.55,
          3,
          2,
          3.62,
          3.1333333333333333,
          1.8,
          4.133333333333333,
          2.15,
          3.3642857142857143,
          3.8846153846153846,
          3.8133333333333335,
          3.908333333333333
         ],
         "yaxis": "y"
        }
       ],
       "layout": {
        "annotations": [
         {
          "showarrow": false,
          "text": "нет эффекта",
          "x": 1,
          "xanchor": "right",
          "xref": "x domain",
          "y": 1,
          "yanchor": "top",
          "yref": "y"
         },
         {
          "showarrow": false,
          "text": "маленький эффект",
          "x": 1,
          "xanchor": "right",
          "xref": "x domain",
          "y": 2,
          "yanchor": "top",
          "yref": "y"
         },
         {
          "showarrow": false,
          "text": "поддерживающий эффект",
          "x": 1,
          "xanchor": "right",
          "xref": "x domain",
          "y": 3,
          "yanchor": "top",
          "yref": "y"
         },
         {
          "showarrow": false,
          "text": "развивающий эффект",
          "x": 1,
          "xanchor": "right",
          "xref": "x domain",
          "y": 4,
          "yanchor": "top",
          "yref": "y"
         },
         {
          "showarrow": false,
          "text": "высокий развивающий эффект",
          "x": 1,
          "xanchor": "right",
          "xref": "x domain",
          "y": 4.9,
          "yanchor": "top",
          "yref": "y"
         }
        ],
        "legend": {
         "tracegroupgap": 0
        },
        "shapes": [
         {
          "fillcolor": "#dcf6bd",
          "line": {
           "width": 0
          },
          "opacity": 0.2,
          "type": "rect",
          "x0": 0,
          "x1": 1,
          "xref": "x domain",
          "y0": 0,
          "y1": 1,
          "yref": "y"
         },
         {
          "fillcolor": "#a0f950",
          "line": {
           "width": 0
          },
          "opacity": 0.2,
          "type": "rect",
          "x0": 0,
          "x1": 1,
          "xref": "x domain",
          "y0": 1,
          "y1": 2,
          "yref": "y"
         },
         {
          "fillcolor": "#f9db50",
          "line": {
           "width": 0
          },
          "opacity": 0.2,
          "type": "rect",
          "x0": 0,
          "x1": 1,
          "xref": "x domain",
          "y0": 2,
          "y1": 3,
          "yref": "y"
         },
         {
          "fillcolor": "#f64624",
          "line": {
           "width": 0
          },
          "opacity": 0.2,
          "type": "rect",
          "x0": 0,
          "x1": 1,
          "xref": "x domain",
          "y0": 3,
          "y1": 4,
          "yref": "y"
         },
         {
          "fillcolor": "#f71c0c",
          "line": {
           "width": 0
          },
          "opacity": 0.4,
          "type": "rect",
          "x0": 0,
          "x1": 1,
          "xref": "x domain",
          "y0": 4,
          "y1": 4.9,
          "yref": "y"
         }
        ],
        "template": {
         "data": {
          "bar": [
           {
            "error_x": {
             "color": "#2a3f5f"
            },
            "error_y": {
             "color": "#2a3f5f"
            },
            "marker": {
             "line": {
              "color": "#E5ECF6",
              "width": 0.5
             },
             "pattern": {
              "fillmode": "overlay",
              "size": 10,
              "solidity": 0.2
             }
            },
            "type": "bar"
           }
          ],
          "barpolar": [
           {
            "marker": {
             "line": {
              "color": "#E5ECF6",
              "width": 0.5
             },
             "pattern": {
              "fillmode": "overlay",
              "size": 10,
              "solidity": 0.2
             }
            },
            "type": "barpolar"
           }
          ],
          "carpet": [
           {
            "aaxis": {
             "endlinecolor": "#2a3f5f",
             "gridcolor": "white",
             "linecolor": "white",
             "minorgridcolor": "white",
             "startlinecolor": "#2a3f5f"
            },
            "baxis": {
             "endlinecolor": "#2a3f5f",
             "gridcolor": "white",
             "linecolor": "white",
             "minorgridcolor": "white",
             "startlinecolor": "#2a3f5f"
            },
            "type": "carpet"
           }
          ],
          "choropleth": [
           {
            "colorbar": {
             "outlinewidth": 0,
             "ticks": ""
            },
            "type": "choropleth"
           }
          ],
          "contour": [
           {
            "colorbar": {
             "outlinewidth": 0,
             "ticks": ""
            },
            "colorscale": [
             [
              0,
              "#0d0887"
             ],
             [
              0.1111111111111111,
              "#46039f"
             ],
             [
              0.2222222222222222,
              "#7201a8"
             ],
             [
              0.3333333333333333,
              "#9c179e"
             ],
             [
              0.4444444444444444,
              "#bd3786"
             ],
             [
              0.5555555555555556,
              "#d8576b"
             ],
             [
              0.6666666666666666,
              "#ed7953"
             ],
             [
              0.7777777777777778,
              "#fb9f3a"
             ],
             [
              0.8888888888888888,
              "#fdca26"
             ],
             [
              1,
              "#f0f921"
             ]
            ],
            "type": "contour"
           }
          ],
          "contourcarpet": [
           {
            "colorbar": {
             "outlinewidth": 0,
             "ticks": ""
            },
            "type": "contourcarpet"
           }
          ],
          "heatmap": [
           {
            "colorbar": {
             "outlinewidth": 0,
             "ticks": ""
            },
            "colorscale": [
             [
              0,
              "#0d0887"
             ],
             [
              0.1111111111111111,
              "#46039f"
             ],
             [
              0.2222222222222222,
              "#7201a8"
             ],
             [
              0.3333333333333333,
              "#9c179e"
             ],
             [
              0.4444444444444444,
              "#bd3786"
             ],
             [
              0.5555555555555556,
              "#d8576b"
             ],
             [
              0.6666666666666666,
              "#ed7953"
             ],
             [
              0.7777777777777778,
              "#fb9f3a"
             ],
             [
              0.8888888888888888,
              "#fdca26"
             ],
             [
              1,
              "#f0f921"
             ]
            ],
            "type": "heatmap"
           }
          ],
          "heatmapgl": [
           {
            "colorbar": {
             "outlinewidth": 0,
             "ticks": ""
            },
            "colorscale": [
             [
              0,
              "#0d0887"
             ],
             [
              0.1111111111111111,
              "#46039f"
             ],
             [
              0.2222222222222222,
              "#7201a8"
             ],
             [
              0.3333333333333333,
              "#9c179e"
             ],
             [
              0.4444444444444444,
              "#bd3786"
             ],
             [
              0.5555555555555556,
              "#d8576b"
             ],
             [
              0.6666666666666666,
              "#ed7953"
             ],
             [
              0.7777777777777778,
              "#fb9f3a"
             ],
             [
              0.8888888888888888,
              "#fdca26"
             ],
             [
              1,
              "#f0f921"
             ]
            ],
            "type": "heatmapgl"
           }
          ],
          "histogram": [
           {
            "marker": {
             "pattern": {
              "fillmode": "overlay",
              "size": 10,
              "solidity": 0.2
             }
            },
            "type": "histogram"
           }
          ],
          "histogram2d": [
           {
            "colorbar": {
             "outlinewidth": 0,
             "ticks": ""
            },
            "colorscale": [
             [
              0,
              "#0d0887"
             ],
             [
              0.1111111111111111,
              "#46039f"
             ],
             [
              0.2222222222222222,
              "#7201a8"
             ],
             [
              0.3333333333333333,
              "#9c179e"
             ],
             [
              0.4444444444444444,
              "#bd3786"
             ],
             [
              0.5555555555555556,
              "#d8576b"
             ],
             [
              0.6666666666666666,
              "#ed7953"
             ],
             [
              0.7777777777777778,
              "#fb9f3a"
             ],
             [
              0.8888888888888888,
              "#fdca26"
             ],
             [
              1,
              "#f0f921"
             ]
            ],
            "type": "histogram2d"
           }
          ],
          "histogram2dcontour": [
           {
            "colorbar": {
             "outlinewidth": 0,
             "ticks": ""
            },
            "colorscale": [
             [
              0,
              "#0d0887"
             ],
             [
              0.1111111111111111,
              "#46039f"
             ],
             [
              0.2222222222222222,
              "#7201a8"
             ],
             [
              0.3333333333333333,
              "#9c179e"
             ],
             [
              0.4444444444444444,
              "#bd3786"
             ],
             [
              0.5555555555555556,
              "#d8576b"
             ],
             [
              0.6666666666666666,
              "#ed7953"
             ],
             [
              0.7777777777777778,
              "#fb9f3a"
             ],
             [
              0.8888888888888888,
              "#fdca26"
             ],
             [
              1,
              "#f0f921"
             ]
            ],
            "type": "histogram2dcontour"
           }
          ],
          "mesh3d": [
           {
            "colorbar": {
             "outlinewidth": 0,
             "ticks": ""
            },
            "type": "mesh3d"
           }
          ],
          "parcoords": [
           {
            "line": {
             "colorbar": {
              "outlinewidth": 0,
              "ticks": ""
             }
            },
            "type": "parcoords"
           }
          ],
          "pie": [
           {
            "automargin": true,
            "type": "pie"
           }
          ],
          "scatter": [
           {
            "fillpattern": {
             "fillmode": "overlay",
             "size": 10,
             "solidity": 0.2
            },
            "type": "scatter"
           }
          ],
          "scatter3d": [
           {
            "line": {
             "colorbar": {
              "outlinewidth": 0,
              "ticks": ""
             }
            },
            "marker": {
             "colorbar": {
              "outlinewidth": 0,
              "ticks": ""
             }
            },
            "type": "scatter3d"
           }
          ],
          "scattercarpet": [
           {
            "marker": {
             "colorbar": {
              "outlinewidth": 0,
              "ticks": ""
             }
            },
            "type": "scattercarpet"
           }
          ],
          "scattergeo": [
           {
            "marker": {
             "colorbar": {
              "outlinewidth": 0,
              "ticks": ""
             }
            },
            "type": "scattergeo"
           }
          ],
          "scattergl": [
           {
            "marker": {
             "colorbar": {
              "outlinewidth": 0,
              "ticks": ""
             }
            },
            "type": "scattergl"
           }
          ],
          "scattermapbox": [
           {
            "marker": {
             "colorbar": {
              "outlinewidth": 0,
              "ticks": ""
             }
            },
            "type": "scattermapbox"
           }
          ],
          "scatterpolar": [
           {
            "marker": {
             "colorbar": {
              "outlinewidth": 0,
              "ticks": ""
             }
            },
            "type": "scatterpolar"
           }
          ],
          "scatterpolargl": [
           {
            "marker": {
             "colorbar": {
              "outlinewidth": 0,
              "ticks": ""
             }
            },
            "type": "scatterpolargl"
           }
          ],
          "scatterternary": [
           {
            "marker": {
             "colorbar": {
              "outlinewidth": 0,
              "ticks": ""
             }
            },
            "type": "scatterternary"
           }
          ],
          "surface": [
           {
            "colorbar": {
             "outlinewidth": 0,
             "ticks": ""
            },
            "colorscale": [
             [
              0,
              "#0d0887"
             ],
             [
              0.1111111111111111,
              "#46039f"
             ],
             [
              0.2222222222222222,
              "#7201a8"
             ],
             [
              0.3333333333333333,
              "#9c179e"
             ],
             [
              0.4444444444444444,
              "#bd3786"
             ],
             [
              0.5555555555555556,
              "#d8576b"
             ],
             [
              0.6666666666666666,
              "#ed7953"
             ],
             [
              0.7777777777777778,
              "#fb9f3a"
             ],
             [
              0.8888888888888888,
              "#fdca26"
             ],
             [
              1,
              "#f0f921"
             ]
            ],
            "type": "surface"
           }
          ],
          "table": [
           {
            "cells": {
             "fill": {
              "color": "#EBF0F8"
             },
             "line": {
              "color": "white"
             }
            },
            "header": {
             "fill": {
              "color": "#C8D4E3"
             },
             "line": {
              "color": "white"
             }
            },
            "type": "table"
           }
          ]
         },
         "layout": {
          "annotationdefaults": {
           "arrowcolor": "#2a3f5f",
           "arrowhead": 0,
           "arrowwidth": 1
          },
          "autotypenumbers": "strict",
          "coloraxis": {
           "colorbar": {
            "outlinewidth": 0,
            "ticks": ""
           }
          },
          "colorscale": {
           "diverging": [
            [
             0,
             "#8e0152"
            ],
            [
             0.1,
             "#c51b7d"
            ],
            [
             0.2,
             "#de77ae"
            ],
            [
             0.3,
             "#f1b6da"
            ],
            [
             0.4,
             "#fde0ef"
            ],
            [
             0.5,
             "#f7f7f7"
            ],
            [
             0.6,
             "#e6f5d0"
            ],
            [
             0.7,
             "#b8e186"
            ],
            [
             0.8,
             "#7fbc41"
            ],
            [
             0.9,
             "#4d9221"
            ],
            [
             1,
             "#276419"
            ]
           ],
           "sequential": [
            [
             0,
             "#0d0887"
            ],
            [
             0.1111111111111111,
             "#46039f"
            ],
            [
             0.2222222222222222,
             "#7201a8"
            ],
            [
             0.3333333333333333,
             "#9c179e"
            ],
            [
             0.4444444444444444,
             "#bd3786"
            ],
            [
             0.5555555555555556,
             "#d8576b"
            ],
            [
             0.6666666666666666,
             "#ed7953"
            ],
            [
             0.7777777777777778,
             "#fb9f3a"
            ],
            [
             0.8888888888888888,
             "#fdca26"
            ],
            [
             1,
             "#f0f921"
            ]
           ],
           "sequentialminus": [
            [
             0,
             "#0d0887"
            ],
            [
             0.1111111111111111,
             "#46039f"
            ],
            [
             0.2222222222222222,
             "#7201a8"
            ],
            [
             0.3333333333333333,
             "#9c179e"
            ],
            [
             0.4444444444444444,
             "#bd3786"
            ],
            [
             0.5555555555555556,
             "#d8576b"
            ],
            [
             0.6666666666666666,
             "#ed7953"
            ],
            [
             0.7777777777777778,
             "#fb9f3a"
            ],
            [
             0.8888888888888888,
             "#fdca26"
            ],
            [
             1,
             "#f0f921"
            ]
           ]
          },
          "colorway": [
           "#636efa",
           "#EF553B",
           "#00cc96",
           "#ab63fa",
           "#FFA15A",
           "#19d3f3",
           "#FF6692",
           "#B6E880",
           "#FF97FF",
           "#FECB52"
          ],
          "font": {
           "color": "#2a3f5f"
          },
          "geo": {
           "bgcolor": "white",
           "lakecolor": "white",
           "landcolor": "#E5ECF6",
           "showlakes": true,
           "showland": true,
           "subunitcolor": "white"
          },
          "hoverlabel": {
           "align": "left"
          },
          "hovermode": "closest",
          "mapbox": {
           "style": "light"
          },
          "paper_bgcolor": "white",
          "plot_bgcolor": "#E5ECF6",
          "polar": {
           "angularaxis": {
            "gridcolor": "white",
            "linecolor": "white",
            "ticks": ""
           },
           "bgcolor": "#E5ECF6",
           "radialaxis": {
            "gridcolor": "white",
            "linecolor": "white",
            "ticks": ""
           }
          },
          "scene": {
           "xaxis": {
            "backgroundcolor": "#E5ECF6",
            "gridcolor": "white",
            "gridwidth": 2,
            "linecolor": "white",
            "showbackground": true,
            "ticks": "",
            "zerolinecolor": "white"
           },
           "yaxis": {
            "backgroundcolor": "#E5ECF6",
            "gridcolor": "white",
            "gridwidth": 2,
            "linecolor": "white",
            "showbackground": true,
            "ticks": "",
            "zerolinecolor": "white"
           },
           "zaxis": {
            "backgroundcolor": "#E5ECF6",
            "gridcolor": "white",
            "gridwidth": 2,
            "linecolor": "white",
            "showbackground": true,
            "ticks": "",
            "zerolinecolor": "white"
           }
          },
          "shapedefaults": {
           "line": {
            "color": "#2a3f5f"
           }
          },
          "ternary": {
           "aaxis": {
            "gridcolor": "white",
            "linecolor": "white",
            "ticks": ""
           },
           "baxis": {
            "gridcolor": "white",
            "linecolor": "white",
            "ticks": ""
           },
           "bgcolor": "#E5ECF6",
           "caxis": {
            "gridcolor": "white",
            "linecolor": "white",
            "ticks": ""
           }
          },
          "title": {
           "x": 0.05
          },
          "xaxis": {
           "automargin": true,
           "gridcolor": "white",
           "linecolor": "white",
           "ticks": "",
           "title": {
            "standoff": 15
           },
           "zerolinecolor": "white",
           "zerolinewidth": 2
          },
          "yaxis": {
           "automargin": true,
           "gridcolor": "white",
           "linecolor": "white",
           "ticks": "",
           "title": {
            "standoff": 15
           },
           "zerolinecolor": "white",
           "zerolinewidth": 2
          }
         }
        },
        "title": {
         "text": "Эволюция среднего сердечного ритма."
        },
        "xaxis": {
         "anchor": "y",
         "domain": [
          0,
          1
         ],
         "title": {
          "text": "Дата (Месяц-Год)"
         }
        },
        "yaxis": {
         "anchor": "x",
         "domain": [
          0,
          1
         ],
         "title": {
          "text": "Aerobic TE"
         }
        }
       }
      }
     },
     "metadata": {},
     "output_type": "display_data"
    }
   ],
   "source": [
    "fig = px.line(df_new, x=\"MonthYear\", \n",
    "              y=\"Aerobic TE\", \n",
    "              title='Эволюция среднего сердечного ритма.',\n",
    "              labels = {\n",
    "                  \"MonthYear\":\"Дата (Месяц-Год)\",\n",
    "                  \"Distance\" : \"Средний Сердечный Ритм\"\n",
    "              })\n",
    "fig.add_hrect(y0=0.0, y1=1.0, line_width=0, fillcolor=\"#dcf6bd\", opacity=0.2, annotation_text = \"нет эффекта\")\n",
    "fig.add_hrect(y0=1.0, y1=2.0, line_width=0, fillcolor=\"#a0f950\", opacity=0.2, annotation_text = \"маленький эффект\")\n",
    "fig.add_hrect(y0=2.0, y1=3.0, line_width=0, fillcolor=\"#f9db50\", opacity=0.2, annotation_text = \"поддерживающий эффект\")\n",
    "fig.add_hrect(y0=3.0, y1=4.0, line_width=0, fillcolor=\"#f64624\", opacity=0.2, annotation_text = \"развивающий эффект\")\n",
    "fig.add_hrect(y0=4.0, y1=4.9, line_width=0, fillcolor=\"#f71c0c\", opacity=0.4, annotation_text = \"высокий развивающий эффект\")\n",
    "\n",
    "fig.show()"
   ]
  },
  {
   "cell_type": "code",
   "execution_count": null,
   "metadata": {},
   "outputs": [],
   "source": []
  }
 ],
 "metadata": {
  "kernelspec": {
   "display_name": "CentralVenv",
   "language": "python",
   "name": "python3"
  },
  "language_info": {
   "codemirror_mode": {
    "name": "ipython",
    "version": 3
   },
   "file_extension": ".py",
   "mimetype": "text/x-python",
   "name": "python",
   "nbconvert_exporter": "python",
   "pygments_lexer": "ipython3",
   "version": "3.11.1"
  }
 },
 "nbformat": 4,
 "nbformat_minor": 2
}
